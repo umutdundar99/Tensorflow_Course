{
 "cells": [
  {
   "cell_type": "code",
   "execution_count": 55,
   "id": "58ed5e72",
   "metadata": {},
   "outputs": [],
   "source": [
    "import tensorflow as tf\n",
    "from tensorflow.keras.datasets import fashion_mnist\n",
    "import matplotlib.pyplot as plt"
   ]
  },
  {
   "cell_type": "code",
   "execution_count": 56,
   "id": "57601bd1",
   "metadata": {},
   "outputs": [],
   "source": [
    "(train_data,train_labels),(test_data,test_labels) = fashion_mnist.load_data()"
   ]
  },
  {
   "cell_type": "code",
   "execution_count": 57,
   "id": "a5792f4b",
   "metadata": {},
   "outputs": [
    {
     "data": {
      "text/plain": [
       "<matplotlib.image.AxesImage at 0x1bae3aa78e0>"
      ]
     },
     "execution_count": 57,
     "metadata": {},
     "output_type": "execute_result"
    },
    {
     "data": {
      "image/png": "[encoded data removed]",
      "text/plain": [
       "<Figure size 432x288 with 1 Axes>"
      ]
     },
     "metadata": {
      "needs_background": "light"
     },
     "output_type": "display_data"
    }
   ],
   "source": [
    "# Check the shape of a single example\n",
    "plt.imshow(train_data[0])"
   ]
  },
  {
   "cell_type": "code",
   "execution_count": 58,
   "id": "534b3e15",
   "metadata": {},
   "outputs": [
    {
     "name": "stdout",
     "output_type": "stream",
     "text": [
      "Epoch 1/40\n",
      "1875/1875 [==============================] - 2s 1ms/step - loss: 1.0348 - accuracy: 0.6474 - val_loss: 0.6937 - val_accuracy: 0.7617\n",
      "Epoch 2/40\n",
      "1875/1875 [==============================] - 2s 1ms/step - loss: 0.6376 - accuracy: 0.7757 - val_loss: 0.6400 - val_accuracy: 0.7820\n",
      "Epoch 3/40\n",
      "1875/1875 [==============================] - 2s 1ms/step - loss: 0.5942 - accuracy: 0.7914 - val_loss: 0.6247 - val_accuracy: 0.7783\n",
      "Epoch 4/40\n",
      "1875/1875 [==============================] - 2s 1ms/step - loss: 0.5750 - accuracy: 0.7979 - val_loss: 0.6078 - val_accuracy: 0.7881\n",
      "Epoch 5/40\n",
      "1875/1875 [==============================] - 2s 1ms/step - loss: 0.5641 - accuracy: 0.8006 - val_loss: 0.6169 - val_accuracy: 0.7881\n",
      "Epoch 6/40\n",
      "1875/1875 [==============================] - 2s 1ms/step - loss: 0.5544 - accuracy: 0.8043 - val_loss: 0.5855 - val_accuracy: 0.7951\n",
      "Epoch 7/40\n",
      "1875/1875 [==============================] - 2s 1ms/step - loss: 0.5488 - accuracy: 0.8063 - val_loss: 0.6097 - val_accuracy: 0.7836\n",
      "Epoch 8/40\n",
      "1875/1875 [==============================] - 2s 1ms/step - loss: 0.5428 - accuracy: 0.8077 - val_loss: 0.5787 - val_accuracy: 0.7971\n",
      "Epoch 9/40\n",
      "1875/1875 [==============================] - 2s 1ms/step - loss: 0.5373 - accuracy: 0.8097 - val_loss: 0.5698 - val_accuracy: 0.7977\n",
      "Epoch 10/40\n",
      "1875/1875 [==============================] - 2s 1ms/step - loss: 0.5360 - accuracy: 0.8124 - val_loss: 0.5658 - val_accuracy: 0.8014\n",
      "Epoch 11/40\n",
      "1875/1875 [==============================] - 2s 1ms/step - loss: 0.5311 - accuracy: 0.8130 - val_loss: 0.5714 - val_accuracy: 0.8002\n",
      "Epoch 12/40\n",
      "1875/1875 [==============================] - 2s 1ms/step - loss: 0.5284 - accuracy: 0.8132 - val_loss: 0.5626 - val_accuracy: 0.8027\n",
      "Epoch 13/40\n",
      "1875/1875 [==============================] - 2s 1ms/step - loss: 0.5271 - accuracy: 0.8138 - val_loss: 0.5619 - val_accuracy: 0.8041\n",
      "Epoch 14/40\n",
      "1875/1875 [==============================] - 2s 1ms/step - loss: 0.5249 - accuracy: 0.8143 - val_loss: 0.5718 - val_accuracy: 0.7991\n",
      "Epoch 15/40\n",
      "1875/1875 [==============================] - 2s 1ms/step - loss: 0.5231 - accuracy: 0.8148 - val_loss: 0.5706 - val_accuracy: 0.8024\n",
      "Epoch 16/40\n",
      "1875/1875 [==============================] - 2s 1ms/step - loss: 0.5203 - accuracy: 0.8162 - val_loss: 0.5731 - val_accuracy: 0.8023\n",
      "Epoch 17/40\n",
      "1875/1875 [==============================] - 2s 1ms/step - loss: 0.5191 - accuracy: 0.8176 - val_loss: 0.5594 - val_accuracy: 0.8030\n",
      "Epoch 18/40\n",
      "1875/1875 [==============================] - 2s 1ms/step - loss: 0.5176 - accuracy: 0.8157 - val_loss: 0.5582 - val_accuracy: 0.8053\n",
      "Epoch 19/40\n",
      "1875/1875 [==============================] - 2s 1ms/step - loss: 0.5156 - accuracy: 0.8169 - val_loss: 0.5644 - val_accuracy: 0.8007\n",
      "Epoch 20/40\n",
      "1875/1875 [==============================] - 2s 1ms/step - loss: 0.5146 - accuracy: 0.8177 - val_loss: 0.5660 - val_accuracy: 0.8075\n",
      "Epoch 21/40\n",
      "1875/1875 [==============================] - 2s 1ms/step - loss: 0.5125 - accuracy: 0.8197 - val_loss: 0.5684 - val_accuracy: 0.8004\n",
      "Epoch 22/40\n",
      "1875/1875 [==============================] - 2s 1ms/step - loss: 0.5112 - accuracy: 0.8180 - val_loss: 0.5666 - val_accuracy: 0.8029\n",
      "Epoch 23/40\n",
      "1875/1875 [==============================] - 2s 1ms/step - loss: 0.5105 - accuracy: 0.8195 - val_loss: 0.5570 - val_accuracy: 0.8068\n",
      "Epoch 24/40\n",
      "1875/1875 [==============================] - 2s 1ms/step - loss: 0.5101 - accuracy: 0.8177 - val_loss: 0.5565 - val_accuracy: 0.8076\n",
      "Epoch 25/40\n",
      "1875/1875 [==============================] - 2s 1ms/step - loss: 0.5075 - accuracy: 0.8196 - val_loss: 0.5572 - val_accuracy: 0.8048\n",
      "Epoch 26/40\n",
      "1875/1875 [==============================] - 2s 1ms/step - loss: 0.5081 - accuracy: 0.8192 - val_loss: 0.5658 - val_accuracy: 0.8065\n",
      "Epoch 27/40\n",
      "1875/1875 [==============================] - 2s 1ms/step - loss: 0.5058 - accuracy: 0.8206 - val_loss: 0.5587 - val_accuracy: 0.8045\n",
      "Epoch 28/40\n",
      "1875/1875 [==============================] - 2s 1ms/step - loss: 0.5052 - accuracy: 0.8206 - val_loss: 0.5562 - val_accuracy: 0.8077\n",
      "Epoch 29/40\n",
      "1875/1875 [==============================] - 2s 1ms/step - loss: 0.5050 - accuracy: 0.8205 - val_loss: 0.5664 - val_accuracy: 0.8054\n",
      "Epoch 30/40\n",
      "1875/1875 [==============================] - 2s 1ms/step - loss: 0.5024 - accuracy: 0.8213 - val_loss: 0.5576 - val_accuracy: 0.8053\n",
      "Epoch 31/40\n",
      "1875/1875 [==============================] - 2s 1ms/step - loss: 0.5028 - accuracy: 0.8215 - val_loss: 0.5628 - val_accuracy: 0.8035\n",
      "Epoch 32/40\n",
      "1875/1875 [==============================] - 2s 1ms/step - loss: 0.5012 - accuracy: 0.8205 - val_loss: 0.5573 - val_accuracy: 0.8095\n",
      "Epoch 33/40\n",
      "1875/1875 [==============================] - 2s 1ms/step - loss: 0.4998 - accuracy: 0.8218 - val_loss: 0.5775 - val_accuracy: 0.8006\n",
      "Epoch 34/40\n",
      "1875/1875 [==============================] - 2s 1ms/step - loss: 0.4995 - accuracy: 0.8221 - val_loss: 0.5596 - val_accuracy: 0.8072\n",
      "Epoch 35/40\n",
      "1875/1875 [==============================] - 2s 1ms/step - loss: 0.4980 - accuracy: 0.8236 - val_loss: 0.5508 - val_accuracy: 0.8093\n",
      "Epoch 36/40\n",
      "1875/1875 [==============================] - 2s 1ms/step - loss: 0.4959 - accuracy: 0.8244 - val_loss: 0.5515 - val_accuracy: 0.8066\n",
      "Epoch 37/40\n",
      "1875/1875 [==============================] - 2s 1ms/step - loss: 0.4961 - accuracy: 0.8237 - val_loss: 0.5607 - val_accuracy: 0.8003\n",
      "Epoch 38/40\n",
      "1875/1875 [==============================] - 2s 1ms/step - loss: 0.4947 - accuracy: 0.8251 - val_loss: 0.5455 - val_accuracy: 0.8113\n",
      "Epoch 39/40\n",
      "1875/1875 [==============================] - 2s 1ms/step - loss: 0.4943 - accuracy: 0.8242 - val_loss: 0.5594 - val_accuracy: 0.8054\n",
      "Epoch 40/40\n",
      "1875/1875 [==============================] - 2s 1ms/step - loss: 0.4926 - accuracy: 0.8249 - val_loss: 0.5527 - val_accuracy: 0.8053\n"
     ]
    }
   ],
   "source": [
    "train_data_norm = train_data/255.0\n",
    "test_data_norm = test_data / 255.0\n",
    "# Creating model\n",
    "tf.random.set_seed(42)\n",
    "\n",
    "model_1 =tf.keras.Sequential([\n",
    "    tf.keras.layers.Flatten(input_shape=(28,28)),\n",
    "    tf.keras.layers.Dense(4,activation=\"relu\"),\n",
    "    tf.keras.layers.Dense(4,activation=\"relu\"),\n",
    "    tf.keras.layers.Dense(10,activation=tf.keras.activations.softmax)\n",
    "])\n",
    "\n",
    "# Compile the model\n",
    "model_1.compile(loss=tf.keras.losses.CategoricalCrossentropy(),\n",
    "               optimizer=tf.keras.optimizers.Adam(lr=0.001),\n",
    "                metrics=[\"accuracy\"])\n",
    "#Create the learnign rate callback\n",
    "lr_scheduler = tf.keras.callbacks.LearningRateScheduler(lambda epoch: 1e-3 * 10**(epoch/20))\n",
    "# Fit the model\n",
    "norm_history=model_1.fit(train_data_norm,\n",
    "                            tf.one_hot(train_labels,depth=10),\n",
    "                            epochs=40,\n",
    "                            validation_data=(test_data_norm,tf.one_hot(test_labels,depth=10)),\n",
    "                        )"
   ]
  },
  {
   "cell_type": "code",
   "execution_count": 65,
   "id": "18929678",
   "metadata": {},
   "outputs": [
    {
     "data": {
      "text/plain": [
       "Text(0, 0.5, 'Loss')"
      ]
     },
     "execution_count": 65,
     "metadata": {},
     "output_type": "execute_result"
    },
    {
     "data": {
      "image/png": "[encoded data removed]",
      "text/plain": [
       "<Figure size 432x288 with 1 Axes>"
      ]
     },
     "metadata": {
      "needs_background": "light"
     },
     "output_type": "display_data"
    }
   ],
   "source": [
    "import pandas as pd\n",
    "#pd.DataFrame(norm_history.history).plot(title=\"Norm\")\n",
    "\n",
    "lrs=1e-3 * (10**(tf.range(40)/20))\n",
    "plt.semilogx(lrs,norm_history.history[\"loss\"])\n",
    "plt.xlabel(\"Learning rate\")\n",
    "plt.ylabel(\"Loss\")"
   ]
  },
  {
   "cell_type": "code",
   "execution_count": 66,
   "id": "35eb7290",
   "metadata": {},
   "outputs": [
    {
     "data": {
      "text/plain": [
       "array([[689,   3,   4,  81,  36,   0, 164,   0,  23,   0],\n",
       "       [  7, 930,   1,  33,  23,   0,   3,   0,   2,   1],\n",
       "       [ 21,   1, 348,   7, 482,   0, 111,   0,  29,   1],\n",
       "       [ 33,  11,   1, 743, 144,   0,  31,   0,  35,   2],\n",
       "       [  0,   0,  16,   6, 944,   0,  25,   0,   9,   0],\n",
       "       [  0,   0,   3,   0,   0, 299,   0,  46, 139, 513],\n",
       "       [122,   1,  45,  38, 423,   0, 326,   0,  44,   1],\n",
       "       [  0,   0,   0,   0,   0,   1,   0, 713,   4, 282],\n",
       "       [  6,   0,   9,  12,  19,   1,   6,   5, 939,   3],\n",
       "       [  0,   0,   0,   0,   0,   0,   0,   5,   2, 993]], dtype=int64)"
      ]
     },
     "execution_count": 66,
     "metadata": {},
     "output_type": "execute_result"
    }
   ],
   "source": [
    "y_probs=model_1.predict(test_data)\n",
    "y_preds = y_probs.argmax(axis=1)\n",
    "from sklearn.metrics import confusion_matrix\n",
    "confusion_matrix(y_true=test_labels,\n",
    "                y_pred = y_preds)"
   ]
  },
  {
   "cell_type": "code",
   "execution_count": 67,
   "id": "8b1298df",
   "metadata": {},
   "outputs": [
    {
     "data": {
      "text/plain": [
       "[<tensorflow.python.keras.layers.core.Flatten at 0x1ba8a7ad430>,\n",
       " <tensorflow.python.keras.layers.core.Dense at 0x1ba86e9c4f0>,\n",
       " <tensorflow.python.keras.layers.core.Dense at 0x1ba86e9c7f0>,\n",
       " <tensorflow.python.keras.layers.core.Dense at 0x1ba86e9c430>]"
      ]
     },
     "execution_count": 67,
     "metadata": {},
     "output_type": "execute_result"
    }
   ],
   "source": [
    "# find the layers of our most recent model\n",
    "model_1.layers"
   ]
  },
  {
   "cell_type": "code",
   "execution_count": 68,
   "id": "37664080",
   "metadata": {},
   "outputs": [
    {
     "data": {
      "text/plain": [
       "(array([[ 1.5932959 , -0.7686997 , -1.5784507 , -1.9988147 ],\n",
       "        [ 0.45667922, -1.2957742 , -0.7322074 , -0.16243088],\n",
       "        [ 1.3499514 , -0.200231  , -1.989762  , -1.2142688 ],\n",
       "        ...,\n",
       "        [-0.21869308,  0.5934652 , -0.2728196 ,  0.46215105],\n",
       "        [-0.21825321,  1.1962793 ,  0.5423628 , -0.579176  ],\n",
       "        [ 0.3746474 , -0.1999165 ,  0.02721411,  0.24651003]],\n",
       "       dtype=float32),\n",
       " (784, 4))"
      ]
     },
     "execution_count": 68,
     "metadata": {},
     "output_type": "execute_result"
    }
   ],
   "source": [
    "# Get the patterns of a layer in our network\n",
    "weights,biases = model_1.layers[1].get_weights()\n",
    "weights,weights.shape"
   ]
  },
  {
   "cell_type": "code",
   "execution_count": 73,
   "id": "643f90e9",
   "metadata": {},
   "outputs": [
    {
     "name": "stdout",
     "output_type": "stream",
     "text": [
      "('Failed to import pydot. You must `pip install pydot` and install graphviz (https://graphviz.gitlab.io/download/), ', 'for `pydotprint` to work.')\n"
     ]
    }
   ],
   "source": [
    "from tensorflow.keras.utils import plot_model\n",
    "plot_model(model_1,show_shapes=True)"
   ]
  },
  {
   "cell_type": "code",
   "execution_count": 74,
   "id": "f40f0bca",
   "metadata": {},
   "outputs": [
    {
     "name": "stdout",
     "output_type": "stream",
     "text": [
      "Requirement already satisfied: pydot in c:\\users\\umut_\\anaconda3\\lib\\site-packages (1.4.2)\n",
      "Requirement already satisfied: pyparsing>=2.1.4 in c:\\users\\umut_\\anaconda3\\lib\\site-packages (from pydot) (2.4.7)\n",
      "Note: you may need to restart the kernel to use updated packages.\n"
     ]
    }
   ],
   "source": [
    "pip install pydot"
   ]
  },
  {
   "cell_type": "code",
   "execution_count": null,
   "id": "4f9e9007",
   "metadata": {},
   "outputs": [],
   "source": []
  }
 ],
 "metadata": {
  "kernelspec": {
   "display_name": "Python 3",
   "language": "python",
   "name": "python3"
  },
  "language_info": {
   "codemirror_mode": {
    "name": "ipython",
    "version": 3
   },
   "file_extension": ".py",
   "mimetype": "text/x-python",
   "name": "python",
   "nbconvert_exporter": "python",
   "pygments_lexer": "ipython3",
   "version": "3.8.8"
  }
 },
 "nbformat": 4,
 "nbformat_minor": 5
}
