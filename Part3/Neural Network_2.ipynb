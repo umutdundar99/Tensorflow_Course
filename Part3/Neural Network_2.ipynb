{
 "cells": [
  {
   "cell_type": "code",
   "execution_count": 114,
   "id": "64468262",
   "metadata": {},
   "outputs": [
    {
     "name": "stdout",
     "output_type": "stream",
     "text": [
      "2.3.0\n"
     ]
    }
   ],
   "source": [
    "import tensorflow as tf\n",
    "import numpy as np\n",
    "import matplotlib.pyplot as plt\n",
    "print(tf.__version__)\n",
    "\n",
    "# Create Features\n",
    "X=np.array([-7.,-4.,-1.,2.,5.,8.,11.,14.])\n",
    "Y=np.array([3.,6.,9.,12.,15.,18.,21.,24])"
   ]
  },
  {
   "cell_type": "code",
   "execution_count": 115,
   "id": "666f60fb",
   "metadata": {},
   "outputs": [
    {
     "data": {
      "text/plain": [
       "<matplotlib.collections.PathCollection at 0x2b036fc6970>"
      ]
     },
     "execution_count": 115,
     "metadata": {},
     "output_type": "execute_result"
    },
    {
     "data": {
      "image/png": "[encoded data removed]",
      "text/plain": [
       "<Figure size 432x288 with 1 Axes>"
      ]
     },
     "metadata": {
      "needs_background": "light"
     },
     "output_type": "display_data"
    }
   ],
   "source": [
    "# Visualize it\n",
    "plt.scatter(X,Y)"
   ]
  },
  {
   "cell_type": "code",
   "execution_count": 116,
   "id": "8a098999",
   "metadata": {},
   "outputs": [
    {
     "data": {
      "text/plain": [
       "(<tf.Tensor: shape=(3,), dtype=string, numpy=array([b'bedroom', b'bathroom', b'garage'], dtype=object)>,\n",
       " <tf.Tensor: shape=(1,), dtype=int32, numpy=array([93700])>)"
      ]
     },
     "execution_count": 116,
     "metadata": {},
     "output_type": "execute_result"
    }
   ],
   "source": [
    "house_info = tf.constant([\"bedroom\",\"bathroom\",\"garage\"])\n",
    "house_price = tf.constant([93700])\n",
    "house_info,house_price"
   ]
  },
  {
   "cell_type": "code",
   "execution_count": 117,
   "id": "8bc18a3b",
   "metadata": {},
   "outputs": [
    {
     "data": {
      "text/plain": [
       "((8,), (8,))"
      ]
     },
     "execution_count": 117,
     "metadata": {},
     "output_type": "execute_result"
    }
   ],
   "source": [
    "input_shape= X.shape\n",
    "output_shape = Y.shape\n",
    "input_shape,output_shape"
   ]
  },
  {
   "cell_type": "code",
   "execution_count": 118,
   "id": "74539ca8",
   "metadata": {},
   "outputs": [
    {
     "data": {
      "text/plain": [
       "(<tf.Tensor: shape=(8,), dtype=float32, numpy=array([-7., -4., -1.,  2.,  5.,  8., 11., 14.], dtype=float32)>,\n",
       " <tf.Tensor: shape=(8,), dtype=float32, numpy=array([ 3.,  6.,  9., 12., 15., 18., 21., 24.], dtype=float32)>)"
      ]
     },
     "execution_count": 118,
     "metadata": {},
     "output_type": "execute_result"
    }
   ],
   "source": [
    "# Turn our Numpy arrays into tensors\n",
    "x= tf.constant(X,dtype=tf.float32)\n",
    "y= tf.constant(Y,dtype=tf.float32)\n",
    "x,y"
   ]
  },
  {
   "cell_type": "code",
   "execution_count": 119,
   "id": "1d679ad8",
   "metadata": {},
   "outputs": [
    {
     "data": {
      "text/plain": [
       "(TensorShape([]), TensorShape([]))"
      ]
     },
     "execution_count": 119,
     "metadata": {},
     "output_type": "execute_result"
    }
   ],
   "source": [
    "input_shape= x[0].shape\n",
    "output_shape = y[0].shape\n",
    "input_shape,output_shape\n",
    "# It does not have any dimension, it means it is scatter"
   ]
  },
  {
   "cell_type": "markdown",
   "id": "96390fed",
   "metadata": {},
   "source": [
    "# Steps in modelling with TensorFlow\n",
    "1. Creating a model - define the input and output layers, as well as the hidden layers of a deep learning model\n",
    "2. Compiling a model - define the loss function (in other words, the function which tells our model how wrong it is) and the optimizer (tells our model how to improve the patterns its learning) and evaluation metrics (what we can use to interpret the performance of our model).\n",
    "3. Fitting a model - letting the model try to find patterns between X&Y (features and labels)"
   ]
  },
  {
   "cell_type": "code",
   "execution_count": 120,
   "id": "f1cc62f4",
   "metadata": {},
   "outputs": [],
   "source": [
    "# Optionally, the first layer can receive and input shape argument:\n",
    "model = tf.keras.Sequential()\n",
    "model.add(tf.keras.layers.Dense(8,input_shape=(16,)))\n",
    "#Afterwards, we do automatic shape inference:\n",
    "model.add(tf.keras.layers.Dense(4))\n",
    "\n",
    "model = tf.keras.Sequential()\n",
    "model.add(tf.keras.layers.Dense(8,input_shape=(16,)))\n",
    "\n",
    "model = tf.keras.Sequential()\n",
    "model.add(tf.keras.layers.Dense(1))\n",
    "\n",
    "# this operation as same model=tf.keras.Sequential([tf.keras.layers.Dense(1)])"
   ]
  },
  {
   "cell_type": "code",
   "execution_count": 121,
   "id": "86b774cd",
   "metadata": {},
   "outputs": [
    {
     "name": "stdout",
     "output_type": "stream",
     "text": [
      "Epoch 1/100\n",
      "1/1 [==============================] - 0s 1ms/step - loss: 11.5048 - mae: 11.5048\n",
      "Epoch 2/100\n",
      "1/1 [==============================] - 0s 1ms/step - loss: 11.3723 - mae: 11.3723\n",
      "Epoch 3/100\n",
      "1/1 [==============================] - 0s 998us/step - loss: 11.2398 - mae: 11.2398\n",
      "Epoch 4/100\n",
      "1/1 [==============================] - 0s 1ms/step - loss: 11.1073 - mae: 11.1073\n",
      "Epoch 5/100\n",
      "1/1 [==============================] - 0s 0s/step - loss: 10.9748 - mae: 10.9748\n",
      "Epoch 6/100\n",
      "1/1 [==============================] - 0s 0s/step - loss: 10.8423 - mae: 10.8423\n",
      "Epoch 7/100\n",
      "1/1 [==============================] - 0s 0s/step - loss: 10.7098 - mae: 10.7098\n",
      "Epoch 8/100\n",
      "1/1 [==============================] - 0s 0s/step - loss: 10.5773 - mae: 10.5773\n",
      "Epoch 9/100\n",
      "1/1 [==============================] - 0s 0s/step - loss: 10.4448 - mae: 10.4448\n",
      "Epoch 10/100\n",
      "1/1 [==============================] - 0s 0s/step - loss: 10.3123 - mae: 10.3123\n",
      "Epoch 11/100\n",
      "1/1 [==============================] - 0s 0s/step - loss: 10.1798 - mae: 10.1798\n",
      "Epoch 12/100\n",
      "1/1 [==============================] - 0s 1ms/step - loss: 10.0473 - mae: 10.0473\n",
      "Epoch 13/100\n",
      "1/1 [==============================] - 0s 0s/step - loss: 9.9148 - mae: 9.9148\n",
      "Epoch 14/100\n",
      "1/1 [==============================] - 0s 1ms/step - loss: 9.7823 - mae: 9.7823\n",
      "Epoch 15/100\n",
      "1/1 [==============================] - 0s 999us/step - loss: 9.6498 - mae: 9.6498\n",
      "Epoch 16/100\n",
      "1/1 [==============================] - 0s 0s/step - loss: 9.5173 - mae: 9.5173\n",
      "Epoch 17/100\n",
      "1/1 [==============================] - 0s 0s/step - loss: 9.3848 - mae: 9.3848\n",
      "Epoch 18/100\n",
      "1/1 [==============================] - 0s 0s/step - loss: 9.2523 - mae: 9.2523\n",
      "Epoch 19/100\n",
      "1/1 [==============================] - 0s 0s/step - loss: 9.1198 - mae: 9.1198\n",
      "Epoch 20/100\n",
      "1/1 [==============================] - 0s 998us/step - loss: 8.9873 - mae: 8.9873\n",
      "Epoch 21/100\n",
      "1/1 [==============================] - 0s 1ms/step - loss: 8.8548 - mae: 8.8548\n",
      "Epoch 22/100\n",
      "1/1 [==============================] - 0s 1ms/step - loss: 8.7223 - mae: 8.7223\n",
      "Epoch 23/100\n",
      "1/1 [==============================] - 0s 1000us/step - loss: 8.5898 - mae: 8.5898\n",
      "Epoch 24/100\n",
      "1/1 [==============================] - 0s 1ms/step - loss: 8.4573 - mae: 8.4573\n",
      "Epoch 25/100\n",
      "1/1 [==============================] - 0s 1ms/step - loss: 8.3248 - mae: 8.3248\n",
      "Epoch 26/100\n",
      "1/1 [==============================] - 0s 1ms/step - loss: 8.1923 - mae: 8.1923\n",
      "Epoch 27/100\n",
      "1/1 [==============================] - 0s 0s/step - loss: 8.0598 - mae: 8.0598\n",
      "Epoch 28/100\n",
      "1/1 [==============================] - 0s 0s/step - loss: 7.9273 - mae: 7.9273\n",
      "Epoch 29/100\n",
      "1/1 [==============================] - 0s 0s/step - loss: 7.7948 - mae: 7.7948\n",
      "Epoch 30/100\n",
      "1/1 [==============================] - 0s 1000us/step - loss: 7.6623 - mae: 7.6623\n",
      "Epoch 31/100\n",
      "1/1 [==============================] - 0s 999us/step - loss: 7.5298 - mae: 7.5298\n",
      "Epoch 32/100\n",
      "1/1 [==============================] - 0s 1ms/step - loss: 7.3973 - mae: 7.3973\n",
      "Epoch 33/100\n",
      "1/1 [==============================] - 0s 0s/step - loss: 7.2648 - mae: 7.2648\n",
      "Epoch 34/100\n",
      "1/1 [==============================] - 0s 0s/step - loss: 7.2525 - mae: 7.2525\n",
      "Epoch 35/100\n",
      "1/1 [==============================] - 0s 0s/step - loss: 7.2469 - mae: 7.2469\n",
      "Epoch 36/100\n",
      "1/1 [==============================] - 0s 0s/step - loss: 7.2413 - mae: 7.2413\n",
      "Epoch 37/100\n",
      "1/1 [==============================] - 0s 1ms/step - loss: 7.2356 - mae: 7.2356\n",
      "Epoch 38/100\n",
      "1/1 [==============================] - 0s 999us/step - loss: 7.2300 - mae: 7.2300\n",
      "Epoch 39/100\n",
      "1/1 [==============================] - 0s 1ms/step - loss: 7.2244 - mae: 7.2244\n",
      "Epoch 40/100\n",
      "1/1 [==============================] - 0s 1ms/step - loss: 7.2188 - mae: 7.2188\n",
      "Epoch 41/100\n",
      "1/1 [==============================] - 0s 1ms/step - loss: 7.2131 - mae: 7.2131\n",
      "Epoch 42/100\n",
      "1/1 [==============================] - 0s 1ms/step - loss: 7.2075 - mae: 7.2075\n",
      "Epoch 43/100\n",
      "1/1 [==============================] - 0s 0s/step - loss: 7.2019 - mae: 7.2019\n",
      "Epoch 44/100\n",
      "1/1 [==============================] - 0s 0s/step - loss: 7.1963 - mae: 7.1963\n",
      "Epoch 45/100\n",
      "1/1 [==============================] - 0s 0s/step - loss: 7.1906 - mae: 7.1906\n",
      "Epoch 46/100\n",
      "1/1 [==============================] - 0s 1000us/step - loss: 7.1850 - mae: 7.1850\n",
      "Epoch 47/100\n",
      "1/1 [==============================] - 0s 1ms/step - loss: 7.1794 - mae: 7.1794\n",
      "Epoch 48/100\n",
      "1/1 [==============================] - 0s 0s/step - loss: 7.1738 - mae: 7.1738\n",
      "Epoch 49/100\n",
      "1/1 [==============================] - 0s 0s/step - loss: 7.1681 - mae: 7.1681\n",
      "Epoch 50/100\n",
      "1/1 [==============================] - 0s 1000us/step - loss: 7.1625 - mae: 7.1625\n",
      "Epoch 51/100\n",
      "1/1 [==============================] - 0s 1ms/step - loss: 7.1569 - mae: 7.1569\n",
      "Epoch 52/100\n",
      "1/1 [==============================] - 0s 1ms/step - loss: 7.1512 - mae: 7.1512\n",
      "Epoch 53/100\n",
      "1/1 [==============================] - 0s 0s/step - loss: 7.1456 - mae: 7.1456\n",
      "Epoch 54/100\n",
      "1/1 [==============================] - 0s 0s/step - loss: 7.1400 - mae: 7.1400\n",
      "Epoch 55/100\n",
      "1/1 [==============================] - 0s 0s/step - loss: 7.1344 - mae: 7.1344\n",
      "Epoch 56/100\n",
      "1/1 [==============================] - 0s 0s/step - loss: 7.1287 - mae: 7.1287\n",
      "Epoch 57/100\n",
      "1/1 [==============================] - 0s 0s/step - loss: 7.1231 - mae: 7.1231\n",
      "Epoch 58/100\n",
      "1/1 [==============================] - 0s 0s/step - loss: 7.1175 - mae: 7.1175\n",
      "Epoch 59/100\n",
      "1/1 [==============================] - 0s 0s/step - loss: 7.1119 - mae: 7.1119\n",
      "Epoch 60/100\n",
      "1/1 [==============================] - 0s 999us/step - loss: 7.1063 - mae: 7.1063\n",
      "Epoch 61/100\n",
      "1/1 [==============================] - 0s 0s/step - loss: 7.1006 - mae: 7.1006\n",
      "Epoch 62/100\n",
      "1/1 [==============================] - 0s 0s/step - loss: 7.0950 - mae: 7.0950\n",
      "Epoch 63/100\n",
      "1/1 [==============================] - 0s 999us/step - loss: 7.0894 - mae: 7.0894\n",
      "Epoch 64/100\n",
      "1/1 [==============================] - 0s 0s/step - loss: 7.0838 - mae: 7.0838\n",
      "Epoch 65/100\n",
      "1/1 [==============================] - 0s 0s/step - loss: 7.0781 - mae: 7.0781\n",
      "Epoch 66/100\n",
      "1/1 [==============================] - 0s 1ms/step - loss: 7.0725 - mae: 7.0725\n",
      "Epoch 67/100\n",
      "1/1 [==============================] - 0s 1000us/step - loss: 7.0669 - mae: 7.0669\n",
      "Epoch 68/100\n",
      "1/1 [==============================] - 0s 1ms/step - loss: 7.0613 - mae: 7.0613\n",
      "Epoch 69/100\n",
      "1/1 [==============================] - 0s 1000us/step - loss: 7.0556 - mae: 7.0556\n",
      "Epoch 70/100\n",
      "1/1 [==============================] - 0s 1000us/step - loss: 7.0500 - mae: 7.0500\n",
      "Epoch 71/100\n",
      "1/1 [==============================] - 0s 1ms/step - loss: 7.0444 - mae: 7.0444\n",
      "Epoch 72/100\n",
      "1/1 [==============================] - 0s 0s/step - loss: 7.0388 - mae: 7.0388\n",
      "Epoch 73/100\n",
      "1/1 [==============================] - 0s 0s/step - loss: 7.0331 - mae: 7.0331\n",
      "Epoch 74/100\n",
      "1/1 [==============================] - 0s 1ms/step - loss: 7.0275 - mae: 7.0275\n",
      "Epoch 75/100\n",
      "1/1 [==============================] - 0s 999us/step - loss: 7.0219 - mae: 7.0219\n",
      "Epoch 76/100\n",
      "1/1 [==============================] - 0s 1000us/step - loss: 7.0163 - mae: 7.0163\n",
      "Epoch 77/100\n",
      "1/1 [==============================] - 0s 999us/step - loss: 7.0106 - mae: 7.0106\n",
      "Epoch 78/100\n",
      "1/1 [==============================] - 0s 1ms/step - loss: 7.0050 - mae: 7.0050\n",
      "Epoch 79/100\n",
      "1/1 [==============================] - 0s 1ms/step - loss: 6.9994 - mae: 6.9994\n",
      "Epoch 80/100\n",
      "1/1 [==============================] - 0s 1ms/step - loss: 6.9938 - mae: 6.9938\n",
      "Epoch 81/100\n",
      "1/1 [==============================] - 0s 0s/step - loss: 6.9881 - mae: 6.9881\n",
      "Epoch 82/100\n",
      "1/1 [==============================] - 0s 0s/step - loss: 6.9825 - mae: 6.9825\n",
      "Epoch 83/100\n",
      "1/1 [==============================] - 0s 1ms/step - loss: 6.9769 - mae: 6.9769\n",
      "Epoch 84/100\n",
      "1/1 [==============================] - 0s 1000us/step - loss: 6.9713 - mae: 6.9713\n",
      "Epoch 85/100\n",
      "1/1 [==============================] - 0s 1ms/step - loss: 6.9656 - mae: 6.9656\n",
      "Epoch 86/100\n",
      "1/1 [==============================] - 0s 1ms/step - loss: 6.9600 - mae: 6.9600\n",
      "Epoch 87/100\n",
      "1/1 [==============================] - 0s 1ms/step - loss: 6.9544 - mae: 6.9544\n",
      "Epoch 88/100\n"
     ]
    },
    {
     "name": "stdout",
     "output_type": "stream",
     "text": [
      "1/1 [==============================] - 0s 1ms/step - loss: 6.9488 - mae: 6.9488\n",
      "Epoch 89/100\n",
      "1/1 [==============================] - 0s 999us/step - loss: 6.9431 - mae: 6.9431\n",
      "Epoch 90/100\n",
      "1/1 [==============================] - 0s 1ms/step - loss: 6.9375 - mae: 6.9375\n",
      "Epoch 91/100\n",
      "1/1 [==============================] - 0s 1ms/step - loss: 6.9319 - mae: 6.9319\n",
      "Epoch 92/100\n",
      "1/1 [==============================] - 0s 1000us/step - loss: 6.9263 - mae: 6.9263\n",
      "Epoch 93/100\n",
      "1/1 [==============================] - 0s 1ms/step - loss: 6.9206 - mae: 6.9206\n",
      "Epoch 94/100\n",
      "1/1 [==============================] - 0s 1ms/step - loss: 6.9150 - mae: 6.9150\n",
      "Epoch 95/100\n",
      "1/1 [==============================] - 0s 0s/step - loss: 6.9094 - mae: 6.9094\n",
      "Epoch 96/100\n",
      "1/1 [==============================] - 0s 0s/step - loss: 6.9038 - mae: 6.9038\n",
      "Epoch 97/100\n",
      "1/1 [==============================] - 0s 1ms/step - loss: 6.8981 - mae: 6.8981\n",
      "Epoch 98/100\n",
      "1/1 [==============================] - 0s 0s/step - loss: 6.8925 - mae: 6.8925\n",
      "Epoch 99/100\n",
      "1/1 [==============================] - 0s 0s/step - loss: 6.8869 - mae: 6.8869\n",
      "Epoch 100/100\n",
      "1/1 [==============================] - 0s 0s/step - loss: 6.8813 - mae: 6.8813\n"
     ]
    },
    {
     "data": {
      "text/plain": [
       "<tensorflow.python.keras.callbacks.History at 0x2b036e90ca0>"
      ]
     },
     "execution_count": 121,
     "metadata": {},
     "output_type": "execute_result"
    }
   ],
   "source": [
    "tf.random.set_seed(42)\n",
    "model=tf.keras.Sequential([tf.keras.layers.Dense(1)])\n",
    "model.compile(loss=tf.keras.losses.mae,\n",
    "             optimizer=tf.keras.optimizers.SGD(),#stochastic gradient descent\n",
    "              metrics=[\"mae\"])\n",
    "# fit the model\n",
    "model.fit(x,y,epochs=100)"
   ]
  },
  {
   "cell_type": "code",
   "execution_count": 122,
   "id": "a6d0d573",
   "metadata": {},
   "outputs": [
    {
     "data": {
      "text/plain": [
       "(<tf.Tensor: shape=(8,), dtype=float32, numpy=array([-7., -4., -1.,  2.,  5.,  8., 11., 14.], dtype=float32)>,\n",
       " <tf.Tensor: shape=(8,), dtype=float32, numpy=array([ 3.,  6.,  9., 12., 15., 18., 21., 24.], dtype=float32)>)"
      ]
     },
     "execution_count": 122,
     "metadata": {},
     "output_type": "execute_result"
    }
   ],
   "source": [
    "# Check out X and Y\n",
    "x,y"
   ]
  },
  {
   "cell_type": "code",
   "execution_count": 123,
   "id": "caa83e1c",
   "metadata": {},
   "outputs": [
    {
     "name": "stdout",
     "output_type": "stream",
     "text": [
      "WARNING:tensorflow:11 out of the last 12 calls to <function Model.make_predict_function.<locals>.predict_function at 0x000002B036EF8280> triggered tf.function retracing. Tracing is expensive and the excessive number of tracings could be due to (1) creating @tf.function repeatedly in a loop, (2) passing tensors with different shapes, (3) passing Python objects instead of tensors. For (1), please define your @tf.function outside of the loop. For (2), @tf.function has experimental_relax_shapes=True option that relaxes argument shapes that can avoid unnecessary retracing. For (3), please refer to https://www.tensorflow.org/tutorials/customization/performance#python_or_tensor_args and https://www.tensorflow.org/api_docs/python/tf/function for  more details.\n"
     ]
    },
    {
     "data": {
      "text/plain": [
       "array([[30.158512]], dtype=float32)"
      ]
     },
     "execution_count": 123,
     "metadata": {},
     "output_type": "execute_result"
    }
   ],
   "source": [
    "model.predict([17.0])"
   ]
  },
  {
   "cell_type": "markdown",
   "id": "96d132e9",
   "metadata": {},
   "source": [
    "# Improving our model\n"
   ]
  },
  {
   "cell_type": "code",
   "execution_count": 124,
   "id": "83c3c1d7",
   "metadata": {},
   "outputs": [
    {
     "name": "stdout",
     "output_type": "stream",
     "text": [
      "Epoch 1/97\n",
      "1/1 [==============================] - 0s 1000us/step - loss: 14.6466 - mae: 14.6466\n",
      "Epoch 2/97\n",
      "1/1 [==============================] - 0s 1ms/step - loss: 13.9532 - mae: 13.9532\n",
      "Epoch 3/97\n",
      "1/1 [==============================] - 0s 1000us/step - loss: 13.2603 - mae: 13.2603\n",
      "Epoch 4/97\n",
      "1/1 [==============================] - 0s 0s/step - loss: 12.5659 - mae: 12.5659\n",
      "Epoch 5/97\n",
      "1/1 [==============================] - 0s 999us/step - loss: 11.8675 - mae: 11.8675\n",
      "Epoch 6/97\n",
      "1/1 [==============================] - 0s 0s/step - loss: 11.1621 - mae: 11.1621\n",
      "Epoch 7/97\n",
      "1/1 [==============================] - 0s 0s/step - loss: 10.4475 - mae: 10.4475\n",
      "Epoch 8/97\n",
      "1/1 [==============================] - 0s 0s/step - loss: 9.7214 - mae: 9.7214\n",
      "Epoch 9/97\n",
      "1/1 [==============================] - 0s 0s/step - loss: 8.9817 - mae: 8.9817\n",
      "Epoch 10/97\n",
      "1/1 [==============================] - 0s 0s/step - loss: 8.2262 - mae: 8.2262\n",
      "Epoch 11/97\n",
      "1/1 [==============================] - 0s 0s/step - loss: 7.4526 - mae: 7.4526\n",
      "Epoch 12/97\n",
      "1/1 [==============================] - 0s 999us/step - loss: 6.6585 - mae: 6.6585\n",
      "Epoch 13/97\n",
      "1/1 [==============================] - 0s 999us/step - loss: 6.6244 - mae: 6.6244\n",
      "Epoch 14/97\n",
      "1/1 [==============================] - 0s 1ms/step - loss: 6.9777 - mae: 6.9777\n",
      "Epoch 15/97\n",
      "1/1 [==============================] - 0s 999us/step - loss: 7.2653 - mae: 7.2653\n",
      "Epoch 16/97\n",
      "1/1 [==============================] - 0s 999us/step - loss: 7.4820 - mae: 7.4820\n",
      "Epoch 17/97\n",
      "1/1 [==============================] - 0s 1ms/step - loss: 7.4879 - mae: 7.4879\n",
      "Epoch 18/97\n",
      "1/1 [==============================] - 0s 1ms/step - loss: 7.3301 - mae: 7.3301\n",
      "Epoch 19/97\n",
      "1/1 [==============================] - 0s 0s/step - loss: 7.0454 - mae: 7.0454\n",
      "Epoch 20/97\n",
      "1/1 [==============================] - 0s 0s/step - loss: 6.7251 - mae: 6.7251\n",
      "Epoch 21/97\n",
      "1/1 [==============================] - 0s 0s/step - loss: 6.4643 - mae: 6.4643\n",
      "Epoch 22/97\n",
      "1/1 [==============================] - 0s 1ms/step - loss: 6.1900 - mae: 6.1900\n",
      "Epoch 23/97\n",
      "1/1 [==============================] - 0s 0s/step - loss: 5.9246 - mae: 5.9246\n",
      "Epoch 24/97\n",
      "1/1 [==============================] - 0s 0s/step - loss: 5.8782 - mae: 5.8782\n",
      "Epoch 25/97\n",
      "1/1 [==============================] - 0s 1ms/step - loss: 5.8276 - mae: 5.8276\n",
      "Epoch 26/97\n",
      "1/1 [==============================] - 0s 0s/step - loss: 5.9724 - mae: 5.9724\n",
      "Epoch 27/97\n",
      "1/1 [==============================] - 0s 0s/step - loss: 6.0130 - mae: 6.0130\n",
      "Epoch 28/97\n",
      "1/1 [==============================] - 0s 1ms/step - loss: 5.9583 - mae: 5.9583\n",
      "Epoch 29/97\n",
      "1/1 [==============================] - 0s 1000us/step - loss: 5.8190 - mae: 5.8190\n",
      "Epoch 30/97\n",
      "1/1 [==============================] - 0s 1ms/step - loss: 5.6030 - mae: 5.6030\n",
      "Epoch 31/97\n",
      "1/1 [==============================] - 0s 0s/step - loss: 5.3433 - mae: 5.3433\n",
      "Epoch 32/97\n",
      "1/1 [==============================] - 0s 0s/step - loss: 5.2352 - mae: 5.2352\n",
      "Epoch 33/97\n",
      "1/1 [==============================] - 0s 0s/step - loss: 5.1239 - mae: 5.1239\n",
      "Epoch 34/97\n",
      "1/1 [==============================] - 0s 0s/step - loss: 5.0746 - mae: 5.0746\n",
      "Epoch 35/97\n",
      "1/1 [==============================] - 0s 1ms/step - loss: 5.0523 - mae: 5.0523\n",
      "Epoch 36/97\n",
      "1/1 [==============================] - 0s 1ms/step - loss: 4.9871 - mae: 4.9871\n",
      "Epoch 37/97\n",
      "1/1 [==============================] - 0s 0s/step - loss: 4.8824 - mae: 4.8824\n",
      "Epoch 38/97\n",
      "1/1 [==============================] - 0s 0s/step - loss: 4.7409 - mae: 4.7409\n",
      "Epoch 39/97\n",
      "1/1 [==============================] - 0s 1000us/step - loss: 4.5658 - mae: 4.5658\n",
      "Epoch 40/97\n",
      "1/1 [==============================] - 0s 0s/step - loss: 4.4020 - mae: 4.4020\n",
      "Epoch 41/97\n",
      "1/1 [==============================] - 0s 0s/step - loss: 4.3009 - mae: 4.3009\n",
      "Epoch 42/97\n",
      "1/1 [==============================] - 0s 0s/step - loss: 4.1923 - mae: 4.1923\n",
      "Epoch 43/97\n",
      "1/1 [==============================] - 0s 0s/step - loss: 4.0760 - mae: 4.0760\n",
      "Epoch 44/97\n",
      "1/1 [==============================] - 0s 0s/step - loss: 4.0086 - mae: 4.0086\n",
      "Epoch 45/97\n",
      "1/1 [==============================] - 0s 0s/step - loss: 3.8364 - mae: 3.8364\n",
      "Epoch 46/97\n",
      "1/1 [==============================] - 0s 0s/step - loss: 3.6514 - mae: 3.6514\n",
      "Epoch 47/97\n",
      "1/1 [==============================] - 0s 999us/step - loss: 3.4858 - mae: 3.4858\n",
      "Epoch 48/97\n",
      "1/1 [==============================] - 0s 1ms/step - loss: 3.3568 - mae: 3.3568\n",
      "Epoch 49/97\n",
      "1/1 [==============================] - 0s 1ms/step - loss: 3.2428 - mae: 3.2428\n",
      "Epoch 50/97\n",
      "1/1 [==============================] - 0s 0s/step - loss: 3.0760 - mae: 3.0760\n",
      "Epoch 51/97\n",
      "1/1 [==============================] - 0s 0s/step - loss: 2.8591 - mae: 2.8591\n",
      "Epoch 52/97\n",
      "1/1 [==============================] - 0s 0s/step - loss: 2.6501 - mae: 2.6501\n",
      "Epoch 53/97\n",
      "1/1 [==============================] - 0s 999us/step - loss: 2.4760 - mae: 2.4760\n",
      "Epoch 54/97\n",
      "1/1 [==============================] - 0s 0s/step - loss: 2.3457 - mae: 2.3457\n",
      "Epoch 55/97\n",
      "1/1 [==============================] - 0s 0s/step - loss: 2.1065 - mae: 2.1065\n",
      "Epoch 56/97\n",
      "1/1 [==============================] - 0s 0s/step - loss: 1.8523 - mae: 1.8523\n",
      "Epoch 57/97\n",
      "1/1 [==============================] - 0s 999us/step - loss: 1.7208 - mae: 1.7208\n",
      "Epoch 58/97\n",
      "1/1 [==============================] - 0s 0s/step - loss: 1.5507 - mae: 1.5507\n",
      "Epoch 59/97\n",
      "1/1 [==============================] - 0s 0s/step - loss: 1.2700 - mae: 1.2700\n",
      "Epoch 60/97\n",
      "1/1 [==============================] - 0s 0s/step - loss: 0.9323 - mae: 0.9323\n",
      "Epoch 61/97\n",
      "1/1 [==============================] - 0s 0s/step - loss: 0.8599 - mae: 0.8599\n",
      "Epoch 62/97\n",
      "1/1 [==============================] - 0s 0s/step - loss: 0.6865 - mae: 0.6865\n",
      "Epoch 63/97\n",
      "1/1 [==============================] - 0s 0s/step - loss: 0.3405 - mae: 0.3405\n",
      "Epoch 64/97\n",
      "1/1 [==============================] - 0s 0s/step - loss: 0.1659 - mae: 0.1659\n",
      "Epoch 65/97\n",
      "1/1 [==============================] - 0s 0s/step - loss: 0.4224 - mae: 0.4224\n",
      "Epoch 66/97\n",
      "1/1 [==============================] - 0s 1ms/step - loss: 0.4802 - mae: 0.4802\n",
      "Epoch 67/97\n",
      "1/1 [==============================] - 0s 1ms/step - loss: 0.6473 - mae: 0.6473\n",
      "Epoch 68/97\n",
      "1/1 [==============================] - 0s 0s/step - loss: 0.6601 - mae: 0.6601\n",
      "Epoch 69/97\n",
      "1/1 [==============================] - 0s 999us/step - loss: 0.7372 - mae: 0.7372\n",
      "Epoch 70/97\n",
      "1/1 [==============================] - 0s 0s/step - loss: 0.7022 - mae: 0.7022\n",
      "Epoch 71/97\n",
      "1/1 [==============================] - 0s 1ms/step - loss: 0.6318 - mae: 0.6318\n",
      "Epoch 72/97\n",
      "1/1 [==============================] - 0s 1000us/step - loss: 0.6151 - mae: 0.6151\n",
      "Epoch 73/97\n",
      "1/1 [==============================] - 0s 1ms/step - loss: 0.4329 - mae: 0.4329\n",
      "Epoch 74/97\n",
      "1/1 [==============================] - 0s 1ms/step - loss: 0.4277 - mae: 0.4277\n",
      "Epoch 75/97\n",
      "1/1 [==============================] - 0s 1000us/step - loss: 0.3097 - mae: 0.3097\n",
      "Epoch 76/97\n",
      "1/1 [==============================] - 0s 999us/step - loss: 0.0356 - mae: 0.0356\n",
      "Epoch 77/97\n",
      "1/1 [==============================] - 0s 0s/step - loss: 0.4880 - mae: 0.4880\n",
      "Epoch 78/97\n",
      "1/1 [==============================] - 0s 0s/step - loss: 0.6479 - mae: 0.6479\n",
      "Epoch 79/97\n",
      "1/1 [==============================] - 0s 0s/step - loss: 0.6174 - mae: 0.6174\n",
      "Epoch 80/97\n",
      "1/1 [==============================] - 0s 999us/step - loss: 0.4529 - mae: 0.4529\n",
      "Epoch 81/97\n",
      "1/1 [==============================] - 0s 0s/step - loss: 0.6294 - mae: 0.6294\n",
      "Epoch 82/97\n",
      "1/1 [==============================] - 0s 0s/step - loss: 0.7850 - mae: 0.7850\n",
      "Epoch 83/97\n",
      "1/1 [==============================] - 0s 0s/step - loss: 0.6653 - mae: 0.6653\n",
      "Epoch 84/97\n",
      "1/1 [==============================] - 0s 1ms/step - loss: 0.3935 - mae: 0.3935\n",
      "Epoch 85/97\n",
      "1/1 [==============================] - 0s 1ms/step - loss: 0.5590 - mae: 0.5590\n",
      "Epoch 86/97\n",
      "1/1 [==============================] - 0s 1ms/step - loss: 0.6263 - mae: 0.6263\n",
      "Epoch 87/97\n",
      "1/1 [==============================] - 0s 0s/step - loss: 0.5316 - mae: 0.5316\n",
      "Epoch 88/97\n",
      "1/1 [==============================] - 0s 0s/step - loss: 0.2161 - mae: 0.2161\n",
      "Epoch 89/97\n",
      "1/1 [==============================] - 0s 0s/step - loss: 0.3441 - mae: 0.3441\n",
      "Epoch 90/97\n"
     ]
    },
    {
     "name": "stdout",
     "output_type": "stream",
     "text": [
      "1/1 [==============================] - 0s 0s/step - loss: 0.5325 - mae: 0.5325\n",
      "Epoch 91/97\n",
      "1/1 [==============================] - 0s 0s/step - loss: 0.4389 - mae: 0.4389\n",
      "Epoch 92/97\n",
      "1/1 [==============================] - 0s 1ms/step - loss: 0.2560 - mae: 0.2560\n",
      "Epoch 93/97\n",
      "1/1 [==============================] - 0s 1000us/step - loss: 0.5795 - mae: 0.5795\n",
      "Epoch 94/97\n",
      "1/1 [==============================] - 0s 1ms/step - loss: 0.7585 - mae: 0.7585\n",
      "Epoch 95/97\n",
      "1/1 [==============================] - 0s 0s/step - loss: 0.6773 - mae: 0.6773\n",
      "Epoch 96/97\n",
      "1/1 [==============================] - 0s 0s/step - loss: 0.3691 - mae: 0.3691\n",
      "Epoch 97/97\n",
      "1/1 [==============================] - 0s 999us/step - loss: 0.3135 - mae: 0.3135\n"
     ]
    },
    {
     "data": {
      "text/plain": [
       "<tensorflow.python.keras.callbacks.History at 0x2b0371888e0>"
      ]
     },
     "execution_count": 124,
     "metadata": {},
     "output_type": "execute_result"
    }
   ],
   "source": [
    "# we can improve our model, by altering the steps we took to create a model\n",
    "\n",
    "# 1. Create a model as above\n",
    "model= tf.keras.Sequential([\n",
    "    tf.keras.layers.Dense(50,activation=None),\n",
    "    tf.keras.layers.Dense(1)\n",
    "])\n",
    "# 2. Compile the model\n",
    "model.compile(loss=tf.keras.losses.mae,\n",
    "             optimizer=tf.keras.optimizers.Adam(lr=0.01), # optimizer has been changed as Adam\n",
    "             metrics=[\"mae\"])\n",
    "# 3. Fit the model (this time we'll train for longer)\n",
    "model.fit(x,y,epochs=97)"
   ]
  },
  {
   "cell_type": "code",
   "execution_count": 125,
   "id": "aea3834e",
   "metadata": {},
   "outputs": [
    {
     "name": "stdout",
     "output_type": "stream",
     "text": [
      "WARNING:tensorflow:11 out of the last 11 calls to <function Model.make_predict_function.<locals>.predict_function at 0x000002B0371A8D30> triggered tf.function retracing. Tracing is expensive and the excessive number of tracings could be due to (1) creating @tf.function repeatedly in a loop, (2) passing tensors with different shapes, (3) passing Python objects instead of tensors. For (1), please define your @tf.function outside of the loop. For (2), @tf.function has experimental_relax_shapes=True option that relaxes argument shapes that can avoid unnecessary retracing. For (3), please refer to https://www.tensorflow.org/tutorials/customization/performance#python_or_tensor_args and https://www.tensorflow.org/api_docs/python/tf/function for  more details.\n"
     ]
    },
    {
     "data": {
      "text/plain": [
       "array([[28.443281]], dtype=float32)"
      ]
     },
     "execution_count": 125,
     "metadata": {},
     "output_type": "execute_result"
    }
   ],
   "source": [
    "model.predict([17.0])\n",
    "# changing or adding learning rate is one of the important feature to improve the model"
   ]
  },
  {
   "cell_type": "markdown",
   "id": "ca86ba86",
   "metadata": {},
   "source": [
    "# Visualization"
   ]
  },
  {
   "cell_type": "code",
   "execution_count": 126,
   "id": "0fb491e5",
   "metadata": {},
   "outputs": [],
   "source": [
    "X = tf.range(-100,100,4)\n",
    "X\n",
    "Y=X+10"
   ]
  },
  {
   "cell_type": "code",
   "execution_count": 127,
   "id": "b107f9b5",
   "metadata": {},
   "outputs": [
    {
     "data": {
      "text/plain": [
       "<matplotlib.collections.PathCollection at 0x2b0370cf970>"
      ]
     },
     "execution_count": 127,
     "metadata": {},
     "output_type": "execute_result"
    },
    {
     "data": {
      "image/png": "[encoded data removed]",
      "text/plain": [
       "<Figure size 432x288 with 1 Axes>"
      ]
     },
     "metadata": {
      "needs_background": "light"
     },
     "output_type": "display_data"
    }
   ],
   "source": [
    "plt.scatter(x,y)"
   ]
  },
  {
   "cell_type": "code",
   "execution_count": 128,
   "id": "a8b36045",
   "metadata": {},
   "outputs": [
    {
     "data": {
      "text/plain": [
       "50"
      ]
     },
     "execution_count": 128,
     "metadata": {},
     "output_type": "execute_result"
    }
   ],
   "source": [
    "# Check the lenght of how many samples we have\n",
    "len(X)"
   ]
  },
  {
   "cell_type": "code",
   "execution_count": 129,
   "id": "365c6ba1",
   "metadata": {},
   "outputs": [],
   "source": [
    "# Split the data into train and test sets \n",
    "X_train = X[:40] # first 40 are training samples (%80 of the data)\n",
    "Y_train = Y[:40]\n",
    "\n",
    "\n",
    "X_test = X[40:] # last 10 are testing samples(%20 of the data)\n",
    "Y_test = Y[40:]\n",
    "\n"
   ]
  },
  {
   "cell_type": "code",
   "execution_count": 130,
   "id": "e078f4f4",
   "metadata": {},
   "outputs": [
    {
     "data": {
      "text/plain": [
       "<matplotlib.collections.PathCollection at 0x2b036fac9a0>"
      ]
     },
     "execution_count": 130,
     "metadata": {},
     "output_type": "execute_result"
    },
    {
     "data": {
      "image/png": "[encoded data removed]",
      "text/plain": [
       "<Figure size 720x504 with 1 Axes>"
      ]
     },
     "metadata": {
      "needs_background": "light"
     },
     "output_type": "display_data"
    }
   ],
   "source": [
    "## Visualing the data\n",
    "plt.figure(figsize=(10,7))\n",
    "plt.scatter(X_train, Y_train, c=\"b\", label=\"Training data\")\n",
    "plt.scatter(X_test,Y_test,c=\"g\",label=\"Testing data\")"
   ]
  },
  {
   "cell_type": "code",
   "execution_count": 131,
   "id": "b7385561",
   "metadata": {},
   "outputs": [
    {
     "name": "stdout",
     "output_type": "stream",
     "text": [
      "Model: \"model_1\"\n",
      "_________________________________________________________________\n",
      "Layer (type)                 Output Shape              Param #   \n",
      "=================================================================\n",
      "input_layer (Dense)          (None, 100)               200       \n",
      "_________________________________________________________________\n",
      "output_layer (Dense)         (None, 1)                 101       \n",
      "=================================================================\n",
      "Total params: 301\n",
      "Trainable params: 301\n",
      "Non-trainable params: 0\n",
      "_________________________________________________________________\n"
     ]
    }
   ],
   "source": [
    "# we can improve our model, by altering the steps we took to create a model\n",
    "\n",
    "# 1. Create a model as above\n",
    "model= tf.keras.Sequential([\n",
    "    tf.keras.layers.Dense(100, input_shape=[1],name=\"input_layer\"),\n",
    "    tf.keras.layers.Dense(1,name=\"output_layer\")\n",
    "],name=\"model_1\")\n",
    "# input shape = 1 because X[anynumber] equals 1\n",
    "# 2. Compile the model\n",
    "model.compile(loss=tf.keras.losses.mae,\n",
    "             optimizer=tf.keras.optimizers.Adam(lr=0.01), # optimizer has been changed as Adam\n",
    "             metrics=[\"mae\"])\n",
    "\n",
    "model.summary()\n"
   ]
  },
  {
   "cell_type": "markdown",
   "id": "af0c8d32",
   "metadata": {},
   "source": [
    "**Total params** - total number of parameters in the model\n",
    "**trainable parameters** - these are the parameters the model can update as it trains\n",
    "**non-trainable parameters** these parameters arent updated during training"
   ]
  },
  {
   "cell_type": "code",
   "execution_count": 132,
   "id": "17922ae1",
   "metadata": {},
   "outputs": [
    {
     "data": {
      "text/plain": [
       "<tensorflow.python.keras.callbacks.History at 0x2b0374b3340>"
      ]
     },
     "execution_count": 132,
     "metadata": {},
     "output_type": "execute_result"
    }
   ],
   "source": [
    "# 3. Fit the model (this time we'll train for longer)\n",
    "model.fit(X_train,Y_train,epochs=100, verbose=0)"
   ]
  },
  {
   "cell_type": "code",
   "execution_count": 133,
   "id": "0c772392",
   "metadata": {},
   "outputs": [
    {
     "name": "stdout",
     "output_type": "stream",
     "text": [
      "('Failed to import pydot. You must `pip install pydot` and install graphviz (https://graphviz.gitlab.io/download/), ', 'for `pydotprint` to work.')\n"
     ]
    }
   ],
   "source": [
    "from tensorflow.keras.utils import plot_model\n",
    "plot_model(model=model, show_shapes=True)"
   ]
  },
  {
   "cell_type": "markdown",
   "id": "44907c9f",
   "metadata": {},
   "source": [
    "# Visualizing our model's prediction"
   ]
  },
  {
   "cell_type": "markdown",
   "id": "d65b8861",
   "metadata": {},
   "source": [
    "Make some predictions"
   ]
  },
  {
   "cell_type": "code",
   "execution_count": 134,
   "id": "69a325f2",
   "metadata": {},
   "outputs": [
    {
     "name": "stdout",
     "output_type": "stream",
     "text": [
      "WARNING:tensorflow:11 out of the last 11 calls to <function Model.make_predict_function.<locals>.predict_function at 0x000002B0386E4CA0> triggered tf.function retracing. Tracing is expensive and the excessive number of tracings could be due to (1) creating @tf.function repeatedly in a loop, (2) passing tensors with different shapes, (3) passing Python objects instead of tensors. For (1), please define your @tf.function outside of the loop. For (2), @tf.function has experimental_relax_shapes=True option that relaxes argument shapes that can avoid unnecessary retracing. For (3), please refer to https://www.tensorflow.org/tutorials/customization/performance#python_or_tensor_args and https://www.tensorflow.org/api_docs/python/tf/function for  more details.\n"
     ]
    },
    {
     "data": {
      "text/plain": [
       "array([[ 69.55888 ],\n",
       "       [ 73.53865 ],\n",
       "       [ 77.51841 ],\n",
       "       [ 81.498184],\n",
       "       [ 85.47795 ],\n",
       "       [ 89.4577  ],\n",
       "       [ 93.43747 ],\n",
       "       [ 97.41724 ],\n",
       "       [101.397   ],\n",
       "       [105.37677 ]], dtype=float32)"
      ]
     },
     "execution_count": 134,
     "metadata": {},
     "output_type": "execute_result"
    }
   ],
   "source": [
    "y_pred = model.predict(X_test)\n",
    "y_pred"
   ]
  },
  {
   "cell_type": "code",
   "execution_count": 135,
   "id": "5f375ca0",
   "metadata": {},
   "outputs": [
    {
     "data": {
      "text/plain": [
       "<tf.Tensor: shape=(10,), dtype=int32, numpy=array([ 70,  74,  78,  82,  86,  90,  94,  98, 102, 106])>"
      ]
     },
     "execution_count": 135,
     "metadata": {},
     "output_type": "execute_result"
    }
   ],
   "source": [
    "Y_test"
   ]
  },
  {
   "cell_type": "code",
   "execution_count": 136,
   "id": "3f9de92e",
   "metadata": {},
   "outputs": [],
   "source": [
    "# Let's create a plotting function\n",
    "def plot_predictions(train_data = X_train,\n",
    "                    train_labels = Y_train,\n",
    "                    test_data = X_test,\n",
    "                    test_labels=Y_test,\n",
    "                    predictions=y_pred):\n",
    "    plt.figure(figsize=(10,7))\n",
    "    plt.scatter(train_data,train_labels,c=\"b\",label=\"Training data\")\n",
    "    plt.scatter(test_data,test_labels,c=\"g\",label=\"Test data\")\n",
    "    plt.scatter(test_data,predictions,c=\"r\",label=\"Predictions\")\n",
    "    plt.legend()"
   ]
  },
  {
   "cell_type": "code",
   "execution_count": 137,
   "id": "f0c80457",
   "metadata": {},
   "outputs": [
    {
     "data": {
      "image/png": "[encoded data removed]",
      "text/plain": [
       "<Figure size 720x504 with 1 Axes>"
      ]
     },
     "metadata": {
      "needs_background": "light"
     },
     "output_type": "display_data"
    }
   ],
   "source": [
    "plot_predictions(train_data = X_train,\n",
    "                    train_labels = Y_train,\n",
    "                    test_data = X_test,\n",
    "                    test_labels=Y_test,\n",
    "                    predictions=y_pred)"
   ]
  },
  {
   "cell_type": "markdown",
   "id": "87d1f016",
   "metadata": {},
   "source": [
    "Since we are working on a regression, two fo the main metrics:\n",
    "* MAE- mean absolute error, \"on average, how wrong is each of my model's predictions\"\n",
    "* MSE-mean square error, \"square the average errors\"\n"
   ]
  },
  {
   "cell_type": "code",
   "execution_count": 138,
   "id": "dce55a2d",
   "metadata": {},
   "outputs": [
    {
     "name": "stdout",
     "output_type": "stream",
     "text": [
      "WARNING:tensorflow:5 out of the last 6 calls to <function Model.make_test_function.<locals>.test_function at 0x000002B0373E4790> triggered tf.function retracing. Tracing is expensive and the excessive number of tracings could be due to (1) creating @tf.function repeatedly in a loop, (2) passing tensors with different shapes, (3) passing Python objects instead of tensors. For (1), please define your @tf.function outside of the loop. For (2), @tf.function has experimental_relax_shapes=True option that relaxes argument shapes that can avoid unnecessary retracing. For (3), please refer to https://www.tensorflow.org/tutorials/customization/performance#python_or_tensor_args and https://www.tensorflow.org/api_docs/python/tf/function for  more details.\n",
      "1/1 [==============================] - 0s 999us/step - loss: 0.5322 - mae: 0.5322\n"
     ]
    },
    {
     "data": {
      "text/plain": [
       "[0.5321792364120483, 0.5321792364120483]"
      ]
     },
     "execution_count": 138,
     "metadata": {},
     "output_type": "execute_result"
    }
   ],
   "source": [
    "# Evaluate the model on the test mode\n",
    "model.evaluate(X_test,Y_test)"
   ]
  },
  {
   "cell_type": "code",
   "execution_count": 139,
   "id": "3e0b9415",
   "metadata": {},
   "outputs": [
    {
     "data": {
      "text/plain": [
       "array([[ 69.55888 ],\n",
       "       [ 73.53865 ],\n",
       "       [ 77.51841 ],\n",
       "       [ 81.498184],\n",
       "       [ 85.47795 ],\n",
       "       [ 89.4577  ],\n",
       "       [ 93.43747 ],\n",
       "       [ 97.41724 ],\n",
       "       [101.397   ],\n",
       "       [105.37677 ]], dtype=float32)"
      ]
     },
     "execution_count": 139,
     "metadata": {},
     "output_type": "execute_result"
    }
   ],
   "source": [
    "y_pred"
   ]
  },
  {
   "cell_type": "code",
   "execution_count": 140,
   "id": "66d88d30",
   "metadata": {},
   "outputs": [
    {
     "data": {
      "text/plain": [
       "<tf.Tensor: shape=(10,), dtype=int32, numpy=array([ 70,  74,  78,  82,  86,  90,  94,  98, 102, 106])>"
      ]
     },
     "execution_count": 140,
     "metadata": {},
     "output_type": "execute_result"
    }
   ],
   "source": [
    "Y_test"
   ]
  },
  {
   "cell_type": "markdown",
   "id": "4218582d",
   "metadata": {},
   "source": [
    "# Mean Absolute Error"
   ]
  },
  {
   "cell_type": "code",
   "execution_count": 141,
   "id": "45c11394",
   "metadata": {},
   "outputs": [
    {
     "data": {
      "text/plain": [
       "<tf.Tensor: shape=(10,), dtype=float32, numpy=\n",
       "array([18.441116, 15.16908 , 12.688954, 11.000727, 10.10441 , 10.      ,\n",
       "       10.687494, 12.166895, 14.438202, 17.501415], dtype=float32)>"
      ]
     },
     "execution_count": 141,
     "metadata": {},
     "output_type": "execute_result"
    }
   ],
   "source": [
    "mae = tf.metrics.mean_absolute_error(Y_test,tf.constant(y_pred))\n",
    "mae"
   ]
  },
  {
   "cell_type": "code",
   "execution_count": 142,
   "id": "ff44d315",
   "metadata": {},
   "outputs": [
    {
     "data": {
      "text/plain": [
       "<tf.Tensor: shape=(10, 1), dtype=float32, numpy=\n",
       "array([[ 69.55888 ],\n",
       "       [ 73.53865 ],\n",
       "       [ 77.51841 ],\n",
       "       [ 81.498184],\n",
       "       [ 85.47795 ],\n",
       "       [ 89.4577  ],\n",
       "       [ 93.43747 ],\n",
       "       [ 97.41724 ],\n",
       "       [101.397   ],\n",
       "       [105.37677 ]], dtype=float32)>"
      ]
     },
     "execution_count": 142,
     "metadata": {},
     "output_type": "execute_result"
    }
   ],
   "source": [
    "tf.constant(y_pred)\n",
    "# it has a second dimension, we can get rid of it"
   ]
  },
  {
   "cell_type": "code",
   "execution_count": 143,
   "id": "b42f0c8f",
   "metadata": {},
   "outputs": [
    {
     "data": {
      "text/plain": [
       "<tf.Tensor: shape=(10,), dtype=float32, numpy=\n",
       "array([ 69.55888 ,  73.53865 ,  77.51841 ,  81.498184,  85.47795 ,\n",
       "        89.4577  ,  93.43747 ,  97.41724 , 101.397   , 105.37677 ],\n",
       "      dtype=float32)>"
      ]
     },
     "execution_count": 143,
     "metadata": {},
     "output_type": "execute_result"
    }
   ],
   "source": [
    "# we get rid of the second dimension. It is in (10,) shape now\n",
    "tf.squeeze(y_pred)"
   ]
  },
  {
   "cell_type": "code",
   "execution_count": 144,
   "id": "2aa36bd0",
   "metadata": {},
   "outputs": [
    {
     "data": {
      "text/plain": [
       "<tf.Tensor: shape=(), dtype=float32, numpy=0.53217393>"
      ]
     },
     "execution_count": 144,
     "metadata": {},
     "output_type": "execute_result"
    }
   ],
   "source": [
    "mae= tf.metrics.mean_absolute_error(Y_test,tf.squeeze(y_pred))\n",
    "mae"
   ]
  },
  {
   "cell_type": "markdown",
   "id": "f57eb36f",
   "metadata": {},
   "source": [
    "# Mean Square Error"
   ]
  },
  {
   "cell_type": "code",
   "execution_count": 145,
   "id": "a844df56",
   "metadata": {},
   "outputs": [],
   "source": [
    "def mae(y_true,y_pred):\n",
    "    return tf.metrics.mean_absolute_error(y_true=y_true,y_pred=y_pred)\n",
    "def mse(y_true,y_pred):\n",
    "    return tf.metrics.mean_squared_error(y_true=y_true,y_pred=y_pred)"
   ]
  },
  {
   "cell_type": "markdown",
   "id": "4e07cf00",
   "metadata": {},
   "source": [
    "# Improving the model"
   ]
  },
  {
   "cell_type": "code",
   "execution_count": 146,
   "id": "c3d0404d",
   "metadata": {},
   "outputs": [],
   "source": [
    "# build a model --> fit it --> evaluate it --> tweak it -->> fit it .."
   ]
  },
  {
   "cell_type": "markdown",
   "id": "215a6282",
   "metadata": {},
   "source": [
    "1. Get more data - get more examples for your model to train on\n",
    "2. Make model larger - more layers\n",
    "3. Train for longer\n"
   ]
  },
  {
   "cell_type": "code",
   "execution_count": 147,
   "id": "0de51be3",
   "metadata": {},
   "outputs": [
    {
     "data": {
      "text/plain": [
       "(<tf.Tensor: shape=(40,), dtype=int32, numpy=\n",
       " array([-100,  -96,  -92,  -88,  -84,  -80,  -76,  -72,  -68,  -64,  -60,\n",
       "         -56,  -52,  -48,  -44,  -40,  -36,  -32,  -28,  -24,  -20,  -16,\n",
       "         -12,   -8,   -4,    0,    4,    8,   12,   16,   20,   24,   28,\n",
       "          32,   36,   40,   44,   48,   52,   56])>,\n",
       " <tf.Tensor: shape=(40,), dtype=int32, numpy=\n",
       " array([-90, -86, -82, -78, -74, -70, -66, -62, -58, -54, -50, -46, -42,\n",
       "        -38, -34, -30, -26, -22, -18, -14, -10,  -6,  -2,   2,   6,  10,\n",
       "         14,  18,  22,  26,  30,  34,  38,  42,  46,  50,  54,  58,  62,\n",
       "         66])>)"
      ]
     },
     "execution_count": 147,
     "metadata": {},
     "output_type": "execute_result"
    }
   ],
   "source": [
    "X_train,Y_train"
   ]
  },
  {
   "cell_type": "markdown",
   "id": "28211627",
   "metadata": {},
   "source": [
    "# MODEL 1 (1 LAYER, 100 EPOCHS)"
   ]
  },
  {
   "cell_type": "code",
   "execution_count": 148,
   "id": "c65b9745",
   "metadata": {},
   "outputs": [
    {
     "name": "stdout",
     "output_type": "stream",
     "text": [
      "Epoch 1/100\n",
      "2/2 [==============================] - 0s 1000us/step - loss: 15.9024 - mae: 15.9024\n",
      "Epoch 2/100\n",
      "2/2 [==============================] - 0s 500us/step - loss: 11.2837 - mae: 11.2837\n",
      "Epoch 3/100\n",
      "2/2 [==============================] - 0s 500us/step - loss: 11.1075 - mae: 11.1075\n",
      "Epoch 4/100\n",
      "2/2 [==============================] - 0s 500us/step - loss: 9.2990 - mae: 9.2990\n",
      "Epoch 5/100\n",
      "2/2 [==============================] - 0s 500us/step - loss: 10.1677 - mae: 10.1677\n",
      "Epoch 6/100\n",
      "2/2 [==============================] - 0s 499us/step - loss: 9.4303 - mae: 9.4303\n",
      "Epoch 7/100\n",
      "2/2 [==============================] - 0s 500us/step - loss: 8.5704 - mae: 8.5704\n",
      "Epoch 8/100\n",
      "2/2 [==============================] - 0s 500us/step - loss: 9.0442 - mae: 9.0442\n",
      "Epoch 9/100\n",
      "2/2 [==============================] - 0s 501us/step - loss: 18.7517 - mae: 18.7517\n",
      "Epoch 10/100\n",
      "2/2 [==============================] - 0s 500us/step - loss: 10.1142 - mae: 10.1142\n",
      "Epoch 11/100\n",
      "2/2 [==============================] - 0s 500us/step - loss: 8.3980 - mae: 8.3980\n",
      "Epoch 12/100\n",
      "2/2 [==============================] - 0s 500us/step - loss: 10.6639 - mae: 10.6639\n",
      "Epoch 13/100\n",
      "2/2 [==============================] - 0s 501us/step - loss: 9.7977 - mae: 9.7977\n",
      "Epoch 14/100\n",
      "2/2 [==============================] - 0s 501us/step - loss: 16.0103 - mae: 16.0103\n",
      "Epoch 15/100\n",
      "2/2 [==============================] - 0s 0s/step - loss: 11.4068 - mae: 11.4068\n",
      "Epoch 16/100\n",
      "2/2 [==============================] - 0s 500us/step - loss: 8.5393 - mae: 8.5393\n",
      "Epoch 17/100\n",
      "2/2 [==============================] - 0s 500us/step - loss: 13.6348 - mae: 13.6348\n",
      "Epoch 18/100\n",
      "2/2 [==============================] - 0s 501us/step - loss: 11.4629 - mae: 11.4629\n",
      "Epoch 19/100\n",
      "2/2 [==============================] - 0s 501us/step - loss: 17.9148 - mae: 17.9148\n",
      "Epoch 20/100\n",
      "2/2 [==============================] - 0s 500us/step - loss: 15.0494 - mae: 15.0494\n",
      "Epoch 21/100\n",
      "2/2 [==============================] - 0s 500us/step - loss: 11.0216 - mae: 11.0216\n",
      "Epoch 22/100\n",
      "2/2 [==============================] - 0s 499us/step - loss: 8.1558 - mae: 8.1558\n",
      "Epoch 23/100\n",
      "2/2 [==============================] - 0s 500us/step - loss: 9.5138 - mae: 9.5138\n",
      "Epoch 24/100\n",
      "2/2 [==============================] - 0s 501us/step - loss: 7.6617 - mae: 7.6617\n",
      "Epoch 25/100\n",
      "2/2 [==============================] - 0s 500us/step - loss: 13.1859 - mae: 13.1859\n",
      "Epoch 26/100\n",
      "2/2 [==============================] - 0s 499us/step - loss: 16.4211 - mae: 16.4211\n",
      "Epoch 27/100\n",
      "2/2 [==============================] - 0s 500us/step - loss: 13.1660 - mae: 13.1660\n",
      "Epoch 28/100\n",
      "2/2 [==============================] - 0s 500us/step - loss: 14.2559 - mae: 14.2559\n",
      "Epoch 29/100\n",
      "2/2 [==============================] - 0s 499us/step - loss: 10.0670 - mae: 10.0670\n",
      "Epoch 30/100\n",
      "2/2 [==============================] - 0s 499us/step - loss: 16.3409 - mae: 16.3409\n",
      "Epoch 31/100\n",
      "2/2 [==============================] - 0s 500us/step - loss: 23.6444 - mae: 23.6444\n",
      "Epoch 32/100\n",
      "2/2 [==============================] - 0s 499us/step - loss: 7.6215 - mae: 7.6215\n",
      "Epoch 33/100\n",
      "2/2 [==============================] - 0s 497us/step - loss: 9.3221 - mae: 9.3221\n",
      "Epoch 34/100\n",
      "2/2 [==============================] - 0s 499us/step - loss: 13.7313 - mae: 13.7313\n",
      "Epoch 35/100\n",
      "2/2 [==============================] - 0s 500us/step - loss: 11.1276 - mae: 11.1276\n",
      "Epoch 36/100\n",
      "2/2 [==============================] - 0s 500us/step - loss: 13.3222 - mae: 13.3222\n",
      "Epoch 37/100\n",
      "2/2 [==============================] - 0s 500us/step - loss: 9.4763 - mae: 9.4763\n",
      "Epoch 38/100\n",
      "2/2 [==============================] - 0s 500us/step - loss: 10.1381 - mae: 10.1381\n",
      "Epoch 39/100\n",
      "2/2 [==============================] - 0s 500us/step - loss: 10.1793 - mae: 10.1793\n",
      "Epoch 40/100\n",
      "2/2 [==============================] - 0s 500us/step - loss: 10.9137 - mae: 10.9137\n",
      "Epoch 41/100\n",
      "2/2 [==============================] - 0s 500us/step - loss: 7.9063 - mae: 7.9063\n",
      "Epoch 42/100\n",
      "2/2 [==============================] - 0s 499us/step - loss: 10.0914 - mae: 10.0914\n",
      "Epoch 43/100\n",
      "2/2 [==============================] - 0s 501us/step - loss: 8.7006 - mae: 8.7006\n",
      "Epoch 44/100\n",
      "2/2 [==============================] - 0s 500us/step - loss: 12.2046 - mae: 12.2046\n",
      "Epoch 45/100\n",
      "2/2 [==============================] - 0s 501us/step - loss: 13.7970 - mae: 13.7970\n",
      "Epoch 46/100\n",
      "2/2 [==============================] - 0s 501us/step - loss: 8.4687 - mae: 8.4687\n",
      "Epoch 47/100\n",
      "2/2 [==============================] - 0s 500us/step - loss: 9.1330 - mae: 9.1330\n",
      "Epoch 48/100\n",
      "2/2 [==============================] - 0s 0s/step - loss: 10.6190 - mae: 10.6190\n",
      "Epoch 49/100\n",
      "2/2 [==============================] - 0s 499us/step - loss: 7.7503 - mae: 7.7503\n",
      "Epoch 50/100\n",
      "2/2 [==============================] - 0s 500us/step - loss: 9.5407 - mae: 9.5407\n",
      "Epoch 51/100\n",
      "2/2 [==============================] - 0s 501us/step - loss: 9.1584 - mae: 9.1584\n",
      "Epoch 52/100\n",
      "2/2 [==============================] - 0s 0s/step - loss: 16.3630 - mae: 16.3630\n",
      "Epoch 53/100\n",
      "2/2 [==============================] - 0s 505us/step - loss: 14.1299 - mae: 14.1299\n",
      "Epoch 54/100\n",
      "2/2 [==============================] - 0s 501us/step - loss: 21.1247 - mae: 21.1247\n",
      "Epoch 55/100\n",
      "2/2 [==============================] - 0s 500us/step - loss: 16.3961 - mae: 16.3961\n",
      "Epoch 56/100\n",
      "2/2 [==============================] - 0s 499us/step - loss: 9.9806 - mae: 9.9806\n",
      "Epoch 57/100\n",
      "2/2 [==============================] - 0s 500us/step - loss: 9.9606 - mae: 9.9606\n",
      "Epoch 58/100\n",
      "2/2 [==============================] - 0s 500us/step - loss: 9.2209 - mae: 9.2209\n",
      "Epoch 59/100\n",
      "2/2 [==============================] - 0s 500us/step - loss: 8.4239 - mae: 8.4239\n",
      "Epoch 60/100\n",
      "2/2 [==============================] - 0s 501us/step - loss: 9.4869 - mae: 9.4869\n",
      "Epoch 61/100\n",
      "2/2 [==============================] - 0s 499us/step - loss: 11.4354 - mae: 11.4354\n",
      "Epoch 62/100\n",
      "2/2 [==============================] - 0s 500us/step - loss: 11.6887 - mae: 11.6887\n",
      "Epoch 63/100\n",
      "2/2 [==============================] - 0s 0s/step - loss: 7.0838 - mae: 7.0838\n",
      "Epoch 64/100\n",
      "2/2 [==============================] - 0s 499us/step - loss: 16.9675 - mae: 16.9675\n",
      "Epoch 65/100\n",
      "2/2 [==============================] - 0s 500us/step - loss: 12.4599 - mae: 12.4599\n",
      "Epoch 66/100\n",
      "2/2 [==============================] - 0s 501us/step - loss: 13.0184 - mae: 13.0184\n",
      "Epoch 67/100\n",
      "2/2 [==============================] - 0s 0s/step - loss: 8.0600 - mae: 8.0600\n",
      "Epoch 68/100\n",
      "2/2 [==============================] - 0s 500us/step - loss: 10.1888 - mae: 10.1888\n",
      "Epoch 69/100\n",
      "2/2 [==============================] - 0s 500us/step - loss: 12.3633 - mae: 12.3633\n",
      "Epoch 70/100\n",
      "2/2 [==============================] - 0s 499us/step - loss: 9.0516 - mae: 9.0516\n",
      "Epoch 71/100\n",
      "2/2 [==============================] - 0s 499us/step - loss: 10.0378 - mae: 10.0378\n",
      "Epoch 72/100\n",
      "2/2 [==============================] - 0s 501us/step - loss: 10.0516 - mae: 10.0516\n",
      "Epoch 73/100\n",
      "2/2 [==============================] - 0s 0s/step - loss: 12.6151 - mae: 12.6151\n",
      "Epoch 74/100\n",
      "2/2 [==============================] - 0s 500us/step - loss: 10.3819 - mae: 10.3819\n",
      "Epoch 75/100\n",
      "2/2 [==============================] - 0s 500us/step - loss: 9.7229 - mae: 9.7229\n",
      "Epoch 76/100\n",
      "2/2 [==============================] - 0s 0s/step - loss: 11.2252 - mae: 11.2252\n",
      "Epoch 77/100\n",
      "2/2 [==============================] - 0s 500us/step - loss: 8.3642 - mae: 8.3642\n",
      "Epoch 78/100\n",
      "2/2 [==============================] - 0s 500us/step - loss: 9.1274 - mae: 9.1274\n",
      "Epoch 79/100\n",
      "2/2 [==============================] - 0s 501us/step - loss: 19.5039 - mae: 19.5039\n",
      "Epoch 80/100\n",
      "2/2 [==============================] - 0s 501us/step - loss: 14.8945 - mae: 14.8945\n",
      "Epoch 81/100\n",
      "2/2 [==============================] - 0s 0s/step - loss: 9.0034 - mae: 9.0034\n",
      "Epoch 82/100\n",
      "2/2 [==============================] - 0s 499us/step - loss: 13.0206 - mae: 13.0206\n",
      "Epoch 83/100\n",
      "2/2 [==============================] - 0s 500us/step - loss: 7.9299 - mae: 7.9299\n",
      "Epoch 84/100\n",
      "2/2 [==============================] - 0s 499us/step - loss: 7.6872 - mae: 7.6872\n",
      "Epoch 85/100\n",
      "2/2 [==============================] - 0s 499us/step - loss: 10.0328 - mae: 10.0328\n",
      "Epoch 86/100\n"
     ]
    },
    {
     "name": "stdout",
     "output_type": "stream",
     "text": [
      "2/2 [==============================] - 0s 501us/step - loss: 9.2433 - mae: 9.2433\n",
      "Epoch 87/100\n",
      "2/2 [==============================] - 0s 500us/step - loss: 12.0209 - mae: 12.0209\n",
      "Epoch 88/100\n",
      "2/2 [==============================] - 0s 500us/step - loss: 10.6389 - mae: 10.6389\n",
      "Epoch 89/100\n",
      "2/2 [==============================] - 0s 500us/step - loss: 7.2667 - mae: 7.2667\n",
      "Epoch 90/100\n",
      "2/2 [==============================] - 0s 0s/step - loss: 12.7786 - mae: 12.7786\n",
      "Epoch 91/100\n",
      "2/2 [==============================] - 0s 500us/step - loss: 7.3481 - mae: 7.3481\n",
      "Epoch 92/100\n",
      "2/2 [==============================] - 0s 501us/step - loss: 7.7175 - mae: 7.7175\n",
      "Epoch 93/100\n",
      "2/2 [==============================] - 0s 0s/step - loss: 7.1263 - mae: 7.1263\n",
      "Epoch 94/100\n",
      "2/2 [==============================] - 0s 500us/step - loss: 12.6190 - mae: 12.6190\n",
      "Epoch 95/100\n",
      "2/2 [==============================] - 0s 500us/step - loss: 10.0912 - mae: 10.0912\n",
      "Epoch 96/100\n",
      "2/2 [==============================] - 0s 500us/step - loss: 9.3558 - mae: 9.3558\n",
      "Epoch 97/100\n",
      "2/2 [==============================] - 0s 500us/step - loss: 12.6834 - mae: 12.6834\n",
      "Epoch 98/100\n",
      "2/2 [==============================] - 0s 500us/step - loss: 8.6762 - mae: 8.6762\n",
      "Epoch 99/100\n",
      "2/2 [==============================] - 0s 500us/step - loss: 9.4693 - mae: 9.4693\n",
      "Epoch 100/100\n",
      "2/2 [==============================] - 0s 499us/step - loss: 8.7067 - mae: 8.7067\n"
     ]
    },
    {
     "data": {
      "text/plain": [
       "<tensorflow.python.keras.callbacks.History at 0x2b03874a190>"
      ]
     },
     "execution_count": 148,
     "metadata": {},
     "output_type": "execute_result"
    }
   ],
   "source": [
    "# Set random seed\n",
    "tf.random.set_seed(42)\n",
    "\n",
    "# Create the model\n",
    "model_1 = tf.keras.Sequential([tf.keras.layers.Dense(1)])\n",
    "\n",
    "#Compile the model\n",
    "\n",
    "model_1.compile(loss=tf.keras.losses.mae,\n",
    "               optimizer=tf.keras.optimizers.SGD(),\n",
    "               metrics=[\"mae\"])\n",
    "# Fit the model\n",
    "model_1.fit(X_train,Y_train,epochs=100)"
   ]
  },
  {
   "cell_type": "code",
   "execution_count": 149,
   "id": "117d9fac",
   "metadata": {},
   "outputs": [
    {
     "name": "stdout",
     "output_type": "stream",
     "text": [
      "WARNING:tensorflow:11 out of the last 11 calls to <function Model.make_predict_function.<locals>.predict_function at 0x000002B038762B80> triggered tf.function retracing. Tracing is expensive and the excessive number of tracings could be due to (1) creating @tf.function repeatedly in a loop, (2) passing tensors with different shapes, (3) passing Python objects instead of tensors. For (1), please define your @tf.function outside of the loop. For (2), @tf.function has experimental_relax_shapes=True option that relaxes argument shapes that can avoid unnecessary retracing. For (3), please refer to https://www.tensorflow.org/tutorials/customization/performance#python_or_tensor_args and https://www.tensorflow.org/api_docs/python/tf/function for  more details.\n"
     ]
    },
    {
     "data": {
      "image/png": "[encoded data removed]",
      "text/plain": [
       "<Figure size 720x504 with 1 Axes>"
      ]
     },
     "metadata": {
      "needs_background": "light"
     },
     "output_type": "display_data"
    }
   ],
   "source": [
    "# Make and plot predictions for model_1\n",
    "\n",
    "y_preds_1 = model_1.predict(X_test)\n",
    "plot_predictions(train_labels=Y_train,predictions=y_preds_1)"
   ]
  },
  {
   "cell_type": "code",
   "execution_count": 150,
   "id": "8486e2d1",
   "metadata": {},
   "outputs": [
    {
     "data": {
      "text/plain": [
       "(<tf.Tensor: shape=(), dtype=float32, numpy=18.745327>,\n",
       " <tf.Tensor: shape=(), dtype=float32, numpy=353.57336>)"
      ]
     },
     "execution_count": 150,
     "metadata": {},
     "output_type": "execute_result"
    }
   ],
   "source": [
    "# Calculate evaluation metrics\n",
    "mae_1= mae(Y_test,tf.squeeze(y_preds_1))\n",
    "mse_1= mse(Y_test,tf.squeeze(y_preds_1))\n",
    "mae_1,mse_1"
   ]
  },
  {
   "cell_type": "markdown",
   "id": "94af4c97",
   "metadata": {},
   "source": [
    "# MODEL 2 (2 LAYER, 100 EPOCHS)"
   ]
  },
  {
   "cell_type": "code",
   "execution_count": 151,
   "id": "7de03f20",
   "metadata": {},
   "outputs": [
    {
     "name": "stdout",
     "output_type": "stream",
     "text": [
      "Epoch 1/100\n",
      "2/2 [==============================] - 0s 1ms/step - loss: 27.4058 - mae: 27.4058\n",
      "Epoch 2/100\n",
      "2/2 [==============================] - 0s 500us/step - loss: 24.6339 - mae: 24.6339\n",
      "Epoch 3/100\n",
      "2/2 [==============================] - 0s 501us/step - loss: 29.8935 - mae: 29.8935\n",
      "Epoch 4/100\n",
      "2/2 [==============================] - 0s 499us/step - loss: 27.4055 - mae: 27.4055\n",
      "Epoch 5/100\n",
      "2/2 [==============================] - 0s 500us/step - loss: 14.9463 - mae: 14.9463\n",
      "Epoch 6/100\n",
      "2/2 [==============================] - 0s 999us/step - loss: 11.8819 - mae: 11.8819\n",
      "Epoch 7/100\n",
      "2/2 [==============================] - 0s 1000us/step - loss: 11.1988 - mae: 11.1988\n",
      "Epoch 8/100\n",
      "2/2 [==============================] - 0s 1ms/step - loss: 11.0910 - mae: 11.0910\n",
      "Epoch 9/100\n",
      "2/2 [==============================] - 0s 500us/step - loss: 40.4763 - mae: 40.4763\n",
      "Epoch 10/100\n",
      "2/2 [==============================] - 0s 0s/step - loss: 27.8687 - mae: 27.8687\n",
      "Epoch 11/100\n",
      "2/2 [==============================] - 0s 500us/step - loss: 10.2473 - mae: 10.2473\n",
      "Epoch 12/100\n",
      "2/2 [==============================] - 0s 0s/step - loss: 25.2803 - mae: 25.2803\n",
      "Epoch 13/100\n",
      "2/2 [==============================] - 0s 500us/step - loss: 16.9897 - mae: 16.9897\n",
      "Epoch 14/100\n",
      "2/2 [==============================] - 0s 499us/step - loss: 25.9217 - mae: 25.9217\n",
      "Epoch 15/100\n",
      "2/2 [==============================] - 0s 0s/step - loss: 17.9948 - mae: 17.9948\n",
      "Epoch 16/100\n",
      "2/2 [==============================] - 0s 500us/step - loss: 7.3510 - mae: 7.3510\n",
      "Epoch 17/100\n",
      "2/2 [==============================] - 0s 499us/step - loss: 10.8636 - mae: 10.8636\n",
      "Epoch 18/100\n",
      "2/2 [==============================] - 0s 500us/step - loss: 19.5304 - mae: 19.5304\n",
      "Epoch 19/100\n",
      "2/2 [==============================] - 0s 499us/step - loss: 10.3469 - mae: 10.3469\n",
      "Epoch 20/100\n",
      "2/2 [==============================] - 0s 501us/step - loss: 17.6985 - mae: 17.6985\n",
      "Epoch 21/100\n",
      "2/2 [==============================] - 0s 500us/step - loss: 15.8985 - mae: 15.8985\n",
      "Epoch 22/100\n",
      "2/2 [==============================] - 0s 501us/step - loss: 14.1991 - mae: 14.1991\n",
      "Epoch 23/100\n",
      "2/2 [==============================] - 0s 500us/step - loss: 8.7720 - mae: 8.7720\n",
      "Epoch 24/100\n",
      "2/2 [==============================] - 0s 500us/step - loss: 11.0570 - mae: 11.0570\n",
      "Epoch 25/100\n",
      "2/2 [==============================] - 0s 500us/step - loss: 12.6838 - mae: 12.6838\n",
      "Epoch 26/100\n",
      "2/2 [==============================] - 0s 500us/step - loss: 26.1877 - mae: 26.1877\n",
      "Epoch 27/100\n",
      "2/2 [==============================] - 0s 499us/step - loss: 11.7432 - mae: 11.7432\n",
      "Epoch 28/100\n",
      "2/2 [==============================] - 0s 500us/step - loss: 22.8730 - mae: 22.8730\n",
      "Epoch 29/100\n",
      "2/2 [==============================] - 0s 500us/step - loss: 9.2459 - mae: 9.2459\n",
      "Epoch 30/100\n",
      "2/2 [==============================] - 0s 501us/step - loss: 29.2641 - mae: 29.2641\n",
      "Epoch 31/100\n",
      "2/2 [==============================] - 0s 500us/step - loss: 53.0224 - mae: 53.0224\n",
      "Epoch 32/100\n",
      "2/2 [==============================] - 0s 500us/step - loss: 11.9951 - mae: 11.9951\n",
      "Epoch 33/100\n",
      "2/2 [==============================] - 0s 501us/step - loss: 15.6357 - mae: 15.6357\n",
      "Epoch 34/100\n",
      "2/2 [==============================] - 0s 499us/step - loss: 12.6925 - mae: 12.6925\n",
      "Epoch 35/100\n",
      "2/2 [==============================] - 0s 500us/step - loss: 9.2398 - mae: 9.2398\n",
      "Epoch 36/100\n",
      "2/2 [==============================] - 0s 500us/step - loss: 16.6497 - mae: 16.6497\n",
      "Epoch 37/100\n",
      "2/2 [==============================] - 0s 500us/step - loss: 11.0382 - mae: 11.0382\n",
      "Epoch 38/100\n",
      "2/2 [==============================] - 0s 500us/step - loss: 18.1634 - mae: 18.1634\n",
      "Epoch 39/100\n",
      "2/2 [==============================] - 0s 500us/step - loss: 19.1013 - mae: 19.1013\n",
      "Epoch 40/100\n",
      "2/2 [==============================] - 0s 500us/step - loss: 20.4324 - mae: 20.4324\n",
      "Epoch 41/100\n",
      "2/2 [==============================] - 0s 500us/step - loss: 14.9102 - mae: 14.9102\n",
      "Epoch 42/100\n",
      "2/2 [==============================] - 0s 500us/step - loss: 12.2809 - mae: 12.2809\n",
      "Epoch 43/100\n",
      "2/2 [==============================] - 0s 500us/step - loss: 10.7333 - mae: 10.7333\n",
      "Epoch 44/100\n",
      "2/2 [==============================] - 0s 500us/step - loss: 23.0260 - mae: 23.0260\n",
      "Epoch 45/100\n",
      "2/2 [==============================] - 0s 500us/step - loss: 10.3897 - mae: 10.3897\n",
      "Epoch 46/100\n",
      "2/2 [==============================] - 0s 500us/step - loss: 11.7904 - mae: 11.7904\n",
      "Epoch 47/100\n",
      "2/2 [==============================] - 0s 500us/step - loss: 9.6438 - mae: 9.6438\n",
      "Epoch 48/100\n",
      "2/2 [==============================] - 0s 500us/step - loss: 17.2335 - mae: 17.2335\n",
      "Epoch 49/100\n",
      "2/2 [==============================] - 0s 499us/step - loss: 9.5729 - mae: 9.5729\n",
      "Epoch 50/100\n",
      "2/2 [==============================] - 0s 500us/step - loss: 13.8185 - mae: 13.8185\n",
      "Epoch 51/100\n",
      "2/2 [==============================] - 0s 0s/step - loss: 11.5958 - mae: 11.5958\n",
      "Epoch 52/100\n",
      "2/2 [==============================] - 0s 499us/step - loss: 30.5538 - mae: 30.5538\n",
      "Epoch 53/100\n",
      "2/2 [==============================] - 0s 508us/step - loss: 14.3541 - mae: 14.3541\n",
      "Epoch 54/100\n",
      "2/2 [==============================] - 0s 0s/step - loss: 23.9713 - mae: 23.9713\n",
      "Epoch 55/100\n",
      "2/2 [==============================] - 0s 500us/step - loss: 23.1938 - mae: 23.1938\n",
      "Epoch 56/100\n",
      "2/2 [==============================] - 0s 500us/step - loss: 10.8837 - mae: 10.8837\n",
      "Epoch 57/100\n",
      "2/2 [==============================] - 0s 0s/step - loss: 12.7445 - mae: 12.7445\n",
      "Epoch 58/100\n",
      "2/2 [==============================] - 0s 500us/step - loss: 9.5995 - mae: 9.5995\n",
      "Epoch 59/100\n",
      "2/2 [==============================] - 0s 513us/step - loss: 12.5172 - mae: 12.5172\n",
      "Epoch 60/100\n",
      "2/2 [==============================] - 0s 0s/step - loss: 12.3200 - mae: 12.3200\n",
      "Epoch 61/100\n",
      "2/2 [==============================] - 0s 500us/step - loss: 17.4604 - mae: 17.4604\n",
      "Epoch 62/100\n",
      "2/2 [==============================] - 0s 501us/step - loss: 10.6052 - mae: 10.6052\n",
      "Epoch 63/100\n",
      "2/2 [==============================] - 0s 499us/step - loss: 10.4893 - mae: 10.4893\n",
      "Epoch 64/100\n",
      "2/2 [==============================] - 0s 501us/step - loss: 24.8450 - mae: 24.8450\n",
      "Epoch 65/100\n",
      "2/2 [==============================] - 0s 499us/step - loss: 10.6761 - mae: 10.6761\n",
      "Epoch 66/100\n",
      "2/2 [==============================] - 0s 500us/step - loss: 21.7809 - mae: 21.7809\n",
      "Epoch 67/100\n",
      "2/2 [==============================] - 0s 500us/step - loss: 10.7136 - mae: 10.7136\n",
      "Epoch 68/100\n",
      "2/2 [==============================] - 0s 500us/step - loss: 10.6397 - mae: 10.6397\n",
      "Epoch 69/100\n",
      "2/2 [==============================] - 0s 500us/step - loss: 22.6914 - mae: 22.6914\n",
      "Epoch 70/100\n",
      "2/2 [==============================] - 0s 500us/step - loss: 9.3316 - mae: 9.3316\n",
      "Epoch 71/100\n",
      "2/2 [==============================] - 0s 500us/step - loss: 15.4355 - mae: 15.4355\n",
      "Epoch 72/100\n",
      "2/2 [==============================] - 0s 500us/step - loss: 6.7437 - mae: 6.7437\n",
      "Epoch 73/100\n",
      "2/2 [==============================] - 0s 500us/step - loss: 11.6891 - mae: 11.6891\n",
      "Epoch 74/100\n",
      "2/2 [==============================] - 0s 499us/step - loss: 24.0400 - mae: 24.0400\n",
      "Epoch 75/100\n",
      "2/2 [==============================] - 0s 500us/step - loss: 9.5896 - mae: 9.5896\n",
      "Epoch 76/100\n",
      "2/2 [==============================] - 0s 500us/step - loss: 12.4371 - mae: 12.4371\n",
      "Epoch 77/100\n",
      "2/2 [==============================] - 0s 500us/step - loss: 16.6488 - mae: 16.6488\n",
      "Epoch 78/100\n",
      "2/2 [==============================] - 0s 500us/step - loss: 9.0614 - mae: 9.0614\n",
      "Epoch 79/100\n",
      "2/2 [==============================] - 0s 500us/step - loss: 23.9675 - mae: 23.9675\n",
      "Epoch 80/100\n",
      "2/2 [==============================] - 0s 500us/step - loss: 26.7463 - mae: 26.7463\n",
      "Epoch 81/100\n",
      "2/2 [==============================] - 0s 500us/step - loss: 11.6714 - mae: 11.6714\n",
      "Epoch 82/100\n",
      "2/2 [==============================] - 0s 500us/step - loss: 12.0228 - mae: 12.0228\n",
      "Epoch 83/100\n",
      "2/2 [==============================] - 0s 0s/step - loss: 17.4218 - mae: 17.4218\n",
      "Epoch 84/100\n",
      "2/2 [==============================] - 0s 501us/step - loss: 7.2629 - mae: 7.2629\n",
      "Epoch 85/100\n",
      "2/2 [==============================] - 0s 500us/step - loss: 14.9650 - mae: 14.9650\n",
      "Epoch 86/100\n"
     ]
    },
    {
     "name": "stdout",
     "output_type": "stream",
     "text": [
      "2/2 [==============================] - 0s 499us/step - loss: 15.2862 - mae: 15.2862\n",
      "Epoch 87/100\n",
      "2/2 [==============================] - 0s 500us/step - loss: 19.1086 - mae: 19.1086\n",
      "Epoch 88/100\n",
      "2/2 [==============================] - 0s 500us/step - loss: 29.8228 - mae: 29.8228\n",
      "Epoch 89/100\n",
      "2/2 [==============================] - 0s 500us/step - loss: 10.1742 - mae: 10.1742\n",
      "Epoch 90/100\n",
      "2/2 [==============================] - 0s 500us/step - loss: 21.5240 - mae: 21.5240\n",
      "Epoch 91/100\n",
      "2/2 [==============================] - 0s 499us/step - loss: 10.5716 - mae: 10.5716\n",
      "Epoch 92/100\n",
      "2/2 [==============================] - 0s 500us/step - loss: 18.3977 - mae: 18.3977\n",
      "Epoch 93/100\n",
      "2/2 [==============================] - 0s 500us/step - loss: 7.4138 - mae: 7.4138\n",
      "Epoch 94/100\n",
      "2/2 [==============================] - 0s 499us/step - loss: 17.7380 - mae: 17.7380\n",
      "Epoch 95/100\n",
      "2/2 [==============================] - 0s 500us/step - loss: 11.1144 - mae: 11.1144\n",
      "Epoch 96/100\n",
      "2/2 [==============================] - 0s 501us/step - loss: 19.4346 - mae: 19.4346\n",
      "Epoch 97/100\n",
      "2/2 [==============================] - 0s 500us/step - loss: 12.1593 - mae: 12.1593\n",
      "Epoch 98/100\n",
      "2/2 [==============================] - 0s 500us/step - loss: 11.5653 - mae: 11.5653\n",
      "Epoch 99/100\n",
      "2/2 [==============================] - 0s 0s/step - loss: 13.8827 - mae: 13.8827\n",
      "Epoch 100/100\n",
      "2/2 [==============================] - 0s 500us/step - loss: 20.2277 - mae: 20.2277\n"
     ]
    },
    {
     "data": {
      "text/plain": [
       "<tensorflow.python.keras.callbacks.History at 0x2b036da3c70>"
      ]
     },
     "execution_count": 151,
     "metadata": {},
     "output_type": "execute_result"
    }
   ],
   "source": [
    "# Set random seed\n",
    "tf.random.set_seed(42)\n",
    "\n",
    "# Create the model\n",
    "model_2 = tf.keras.Sequential([tf.keras.layers.Dense(10),\n",
    "                              tf.keras.layers.Dense(1)])\n",
    "\n",
    "#Compile the model\n",
    "\n",
    "model_2.compile(loss=tf.keras.losses.mae,\n",
    "               optimizer=tf.keras.optimizers.SGD(),\n",
    "               metrics=[\"mae\"])\n",
    "# Fit the model\n",
    "model_2.fit(X_train,Y_train,epochs=100)"
   ]
  },
  {
   "cell_type": "code",
   "execution_count": 152,
   "id": "3c7887fe",
   "metadata": {},
   "outputs": [
    {
     "name": "stdout",
     "output_type": "stream",
     "text": [
      "WARNING:tensorflow:11 out of the last 11 calls to <function Model.make_predict_function.<locals>.predict_function at 0x000002B0337B7EE0> triggered tf.function retracing. Tracing is expensive and the excessive number of tracings could be due to (1) creating @tf.function repeatedly in a loop, (2) passing tensors with different shapes, (3) passing Python objects instead of tensors. For (1), please define your @tf.function outside of the loop. For (2), @tf.function has experimental_relax_shapes=True option that relaxes argument shapes that can avoid unnecessary retracing. For (3), please refer to https://www.tensorflow.org/tutorials/customization/performance#python_or_tensor_args and https://www.tensorflow.org/api_docs/python/tf/function for  more details.\n"
     ]
    },
    {
     "data": {
      "image/png": "[encoded data removed]",
      "text/plain": [
       "<Figure size 720x504 with 1 Axes>"
      ]
     },
     "metadata": {
      "needs_background": "light"
     },
     "output_type": "display_data"
    }
   ],
   "source": [
    "# Visualizing\n",
    "y_preds_2 = model_2.predict(X_test)\n",
    "plot_predictions(train_labels=Y_train, predictions=y_preds_2)"
   ]
  },
  {
   "cell_type": "code",
   "execution_count": 153,
   "id": "03216901",
   "metadata": {},
   "outputs": [
    {
     "data": {
      "text/plain": [
       "(<tf.Tensor: shape=(), dtype=float32, numpy=3.19694>,\n",
       " <tf.Tensor: shape=(), dtype=float32, numpy=13.070127>)"
      ]
     },
     "execution_count": 153,
     "metadata": {},
     "output_type": "execute_result"
    }
   ],
   "source": [
    "# Calculate evaluation metrics\n",
    "mae_2= mae(Y_test,tf.squeeze(y_preds_2))\n",
    "mse_2= mse(Y_test,tf.squeeze(y_preds_2))\n",
    "mae_2,mse_2"
   ]
  },
  {
   "cell_type": "markdown",
   "id": "3a72ef8d",
   "metadata": {},
   "source": [
    "# MODEL 2 (2 LAYER, 500 EPOCHS)"
   ]
  },
  {
   "cell_type": "code",
   "execution_count": 154,
   "id": "cf221b4e",
   "metadata": {},
   "outputs": [
    {
     "name": "stdout",
     "output_type": "stream",
     "text": [
      "Epoch 1/500\n",
      "2/2 [==============================] - 0s 998us/step - loss: 27.4058 - mae: 27.4058\n",
      "Epoch 2/500\n",
      "2/2 [==============================] - 0s 500us/step - loss: 24.6339 - mae: 24.6339\n",
      "Epoch 3/500\n",
      "2/2 [==============================] - 0s 499us/step - loss: 29.8935 - mae: 29.8935\n",
      "Epoch 4/500\n",
      "2/2 [==============================] - 0s 500us/step - loss: 27.4055 - mae: 27.4055\n",
      "Epoch 5/500\n",
      "2/2 [==============================] - 0s 499us/step - loss: 14.9463 - mae: 14.9463\n",
      "Epoch 6/500\n",
      "2/2 [==============================] - 0s 499us/step - loss: 11.8819 - mae: 11.8819\n",
      "Epoch 7/500\n",
      "2/2 [==============================] - 0s 499us/step - loss: 11.1988 - mae: 11.1988\n",
      "Epoch 8/500\n",
      "2/2 [==============================] - 0s 500us/step - loss: 11.0910 - mae: 11.0910\n",
      "Epoch 9/500\n",
      "2/2 [==============================] - 0s 500us/step - loss: 40.4763 - mae: 40.4763\n",
      "Epoch 10/500\n",
      "2/2 [==============================] - 0s 499us/step - loss: 27.8687 - mae: 27.8687\n",
      "Epoch 11/500\n",
      "2/2 [==============================] - 0s 0s/step - loss: 10.2473 - mae: 10.2473\n",
      "Epoch 12/500\n",
      "2/2 [==============================] - 0s 501us/step - loss: 25.2803 - mae: 25.2803\n",
      "Epoch 13/500\n",
      "2/2 [==============================] - 0s 500us/step - loss: 16.9897 - mae: 16.9897\n",
      "Epoch 14/500\n",
      "2/2 [==============================] - 0s 501us/step - loss: 25.9217 - mae: 25.9217\n",
      "Epoch 15/500\n",
      "2/2 [==============================] - 0s 500us/step - loss: 17.9948 - mae: 17.9948\n",
      "Epoch 16/500\n",
      "2/2 [==============================] - 0s 0s/step - loss: 7.3510 - mae: 7.3510\n",
      "Epoch 17/500\n",
      "2/2 [==============================] - 0s 500us/step - loss: 10.8636 - mae: 10.8636\n",
      "Epoch 18/500\n",
      "2/2 [==============================] - 0s 500us/step - loss: 19.5304 - mae: 19.5304\n",
      "Epoch 19/500\n",
      "2/2 [==============================] - 0s 500us/step - loss: 10.3469 - mae: 10.3469\n",
      "Epoch 20/500\n",
      "2/2 [==============================] - 0s 508us/step - loss: 17.6985 - mae: 17.6985\n",
      "Epoch 21/500\n",
      "2/2 [==============================] - 0s 501us/step - loss: 15.8985 - mae: 15.8985\n",
      "Epoch 22/500\n",
      "2/2 [==============================] - 0s 0s/step - loss: 14.1991 - mae: 14.1991\n",
      "Epoch 23/500\n",
      "2/2 [==============================] - 0s 500us/step - loss: 8.7720 - mae: 8.7720\n",
      "Epoch 24/500\n",
      "2/2 [==============================] - 0s 500us/step - loss: 11.0570 - mae: 11.0570\n",
      "Epoch 25/500\n",
      "2/2 [==============================] - 0s 500us/step - loss: 12.6838 - mae: 12.6838\n",
      "Epoch 26/500\n",
      "2/2 [==============================] - 0s 501us/step - loss: 26.1877 - mae: 26.1877\n",
      "Epoch 27/500\n",
      "2/2 [==============================] - 0s 500us/step - loss: 11.7432 - mae: 11.7432\n",
      "Epoch 28/500\n",
      "2/2 [==============================] - 0s 499us/step - loss: 22.8730 - mae: 22.8730\n",
      "Epoch 29/500\n",
      "2/2 [==============================] - 0s 501us/step - loss: 9.2459 - mae: 9.2459\n",
      "Epoch 30/500\n",
      "2/2 [==============================] - 0s 502us/step - loss: 29.2641 - mae: 29.2641\n",
      "Epoch 31/500\n",
      "2/2 [==============================] - 0s 502us/step - loss: 53.0224 - mae: 53.0224\n",
      "Epoch 32/500\n",
      "2/2 [==============================] - 0s 0s/step - loss: 11.9951 - mae: 11.9951\n",
      "Epoch 33/500\n",
      "2/2 [==============================] - 0s 500us/step - loss: 15.6357 - mae: 15.6357\n",
      "Epoch 34/500\n",
      "2/2 [==============================] - 0s 0s/step - loss: 12.6925 - mae: 12.6925\n",
      "Epoch 35/500\n",
      "2/2 [==============================] - 0s 500us/step - loss: 9.2398 - mae: 9.2398\n",
      "Epoch 36/500\n",
      "2/2 [==============================] - 0s 0s/step - loss: 16.6497 - mae: 16.6497\n",
      "Epoch 37/500\n",
      "2/2 [==============================] - 0s 500us/step - loss: 11.0382 - mae: 11.0382\n",
      "Epoch 38/500\n",
      "2/2 [==============================] - 0s 500us/step - loss: 18.1634 - mae: 18.1634\n",
      "Epoch 39/500\n",
      "2/2 [==============================] - 0s 500us/step - loss: 19.1013 - mae: 19.1013\n",
      "Epoch 40/500\n",
      "2/2 [==============================] - 0s 500us/step - loss: 20.4324 - mae: 20.4324\n",
      "Epoch 41/500\n",
      "2/2 [==============================] - 0s 500us/step - loss: 14.9102 - mae: 14.9102\n",
      "Epoch 42/500\n",
      "2/2 [==============================] - 0s 500us/step - loss: 12.2809 - mae: 12.2809\n",
      "Epoch 43/500\n",
      "2/2 [==============================] - 0s 499us/step - loss: 10.7333 - mae: 10.7333\n",
      "Epoch 44/500\n",
      "2/2 [==============================] - 0s 500us/step - loss: 23.0260 - mae: 23.0260\n",
      "Epoch 45/500\n",
      "2/2 [==============================] - 0s 500us/step - loss: 10.3897 - mae: 10.3897\n",
      "Epoch 46/500\n",
      "2/2 [==============================] - 0s 500us/step - loss: 11.7904 - mae: 11.7904\n",
      "Epoch 47/500\n",
      "2/2 [==============================] - 0s 500us/step - loss: 9.6438 - mae: 9.6438\n",
      "Epoch 48/500\n",
      "2/2 [==============================] - 0s 500us/step - loss: 17.2335 - mae: 17.2335\n",
      "Epoch 49/500\n",
      "2/2 [==============================] - 0s 0s/step - loss: 9.5729 - mae: 9.5729\n",
      "Epoch 50/500\n",
      "2/2 [==============================] - 0s 501us/step - loss: 13.8185 - mae: 13.8185\n",
      "Epoch 51/500\n",
      "2/2 [==============================] - 0s 500us/step - loss: 11.5958 - mae: 11.5958\n",
      "Epoch 52/500\n",
      "2/2 [==============================] - 0s 501us/step - loss: 30.5538 - mae: 30.5538\n",
      "Epoch 53/500\n",
      "2/2 [==============================] - 0s 0s/step - loss: 14.3541 - mae: 14.3541\n",
      "Epoch 54/500\n",
      "2/2 [==============================] - 0s 500us/step - loss: 23.9713 - mae: 23.9713\n",
      "Epoch 55/500\n",
      "2/2 [==============================] - 0s 500us/step - loss: 23.1938 - mae: 23.1938\n",
      "Epoch 56/500\n",
      "2/2 [==============================] - 0s 500us/step - loss: 10.8837 - mae: 10.8837\n",
      "Epoch 57/500\n",
      "2/2 [==============================] - 0s 499us/step - loss: 12.7445 - mae: 12.7445\n",
      "Epoch 58/500\n",
      "2/2 [==============================] - 0s 499us/step - loss: 9.5995 - mae: 9.5995\n",
      "Epoch 59/500\n",
      "2/2 [==============================] - 0s 500us/step - loss: 12.5172 - mae: 12.5172\n",
      "Epoch 60/500\n",
      "2/2 [==============================] - 0s 500us/step - loss: 12.3200 - mae: 12.3200\n",
      "Epoch 61/500\n",
      "2/2 [==============================] - 0s 500us/step - loss: 17.4604 - mae: 17.4604\n",
      "Epoch 62/500\n",
      "2/2 [==============================] - 0s 499us/step - loss: 10.6052 - mae: 10.6052\n",
      "Epoch 63/500\n",
      "2/2 [==============================] - 0s 500us/step - loss: 10.4893 - mae: 10.4893\n",
      "Epoch 64/500\n",
      "2/2 [==============================] - 0s 499us/step - loss: 24.8450 - mae: 24.8450\n",
      "Epoch 65/500\n",
      "2/2 [==============================] - 0s 499us/step - loss: 10.6761 - mae: 10.6761\n",
      "Epoch 66/500\n",
      "2/2 [==============================] - 0s 499us/step - loss: 21.7809 - mae: 21.7809\n",
      "Epoch 67/500\n",
      "2/2 [==============================] - 0s 500us/step - loss: 10.7136 - mae: 10.7136\n",
      "Epoch 68/500\n",
      "2/2 [==============================] - 0s 500us/step - loss: 10.6397 - mae: 10.6397\n",
      "Epoch 69/500\n",
      "2/2 [==============================] - 0s 0s/step - loss: 22.6914 - mae: 22.6914\n",
      "Epoch 70/500\n",
      "2/2 [==============================] - 0s 500us/step - loss: 9.3316 - mae: 9.3316\n",
      "Epoch 71/500\n",
      "2/2 [==============================] - 0s 499us/step - loss: 15.4355 - mae: 15.4355\n",
      "Epoch 72/500\n",
      "2/2 [==============================] - 0s 500us/step - loss: 6.7437 - mae: 6.7437\n",
      "Epoch 73/500\n",
      "2/2 [==============================] - 0s 500us/step - loss: 11.6891 - mae: 11.6891\n",
      "Epoch 74/500\n",
      "2/2 [==============================] - 0s 500us/step - loss: 24.0400 - mae: 24.0400\n",
      "Epoch 75/500\n",
      "2/2 [==============================] - 0s 500us/step - loss: 9.5896 - mae: 9.5896\n",
      "Epoch 76/500\n",
      "2/2 [==============================] - 0s 499us/step - loss: 12.4371 - mae: 12.4371\n",
      "Epoch 77/500\n",
      "2/2 [==============================] - 0s 500us/step - loss: 16.6488 - mae: 16.6488\n",
      "Epoch 78/500\n",
      "2/2 [==============================] - 0s 500us/step - loss: 9.0614 - mae: 9.0614\n",
      "Epoch 79/500\n",
      "2/2 [==============================] - 0s 500us/step - loss: 23.9675 - mae: 23.9675\n",
      "Epoch 80/500\n",
      "2/2 [==============================] - 0s 499us/step - loss: 26.7463 - mae: 26.7463\n",
      "Epoch 81/500\n",
      "2/2 [==============================] - 0s 500us/step - loss: 11.6714 - mae: 11.6714\n",
      "Epoch 82/500\n",
      "2/2 [==============================] - 0s 500us/step - loss: 12.0228 - mae: 12.0228\n",
      "Epoch 83/500\n",
      "2/2 [==============================] - 0s 500us/step - loss: 17.4218 - mae: 17.4218\n",
      "Epoch 84/500\n",
      "2/2 [==============================] - 0s 500us/step - loss: 7.2629 - mae: 7.2629\n",
      "Epoch 85/500\n",
      "2/2 [==============================] - 0s 500us/step - loss: 14.9650 - mae: 14.9650\n",
      "Epoch 86/500\n"
     ]
    },
    {
     "name": "stdout",
     "output_type": "stream",
     "text": [
      "2/2 [==============================] - 0s 500us/step - loss: 15.2862 - mae: 15.2862\n",
      "Epoch 87/500\n",
      "2/2 [==============================] - 0s 499us/step - loss: 19.1086 - mae: 19.1086\n",
      "Epoch 88/500\n",
      "2/2 [==============================] - 0s 0s/step - loss: 29.8228 - mae: 29.8228\n",
      "Epoch 89/500\n",
      "2/2 [==============================] - 0s 500us/step - loss: 10.1742 - mae: 10.1742\n",
      "Epoch 90/500\n",
      "2/2 [==============================] - 0s 499us/step - loss: 21.5240 - mae: 21.5240\n",
      "Epoch 91/500\n",
      "2/2 [==============================] - 0s 0s/step - loss: 10.5716 - mae: 10.5716\n",
      "Epoch 92/500\n",
      "2/2 [==============================] - 0s 499us/step - loss: 18.3977 - mae: 18.3977\n",
      "Epoch 93/500\n",
      "2/2 [==============================] - 0s 501us/step - loss: 7.4138 - mae: 7.4138\n",
      "Epoch 94/500\n",
      "2/2 [==============================] - 0s 0s/step - loss: 17.7380 - mae: 17.7380\n",
      "Epoch 95/500\n",
      "2/2 [==============================] - 0s 499us/step - loss: 11.1144 - mae: 11.1144\n",
      "Epoch 96/500\n",
      "2/2 [==============================] - 0s 501us/step - loss: 19.4346 - mae: 19.4346\n",
      "Epoch 97/500\n",
      "2/2 [==============================] - 0s 501us/step - loss: 12.1593 - mae: 12.1593\n",
      "Epoch 98/500\n",
      "2/2 [==============================] - 0s 500us/step - loss: 11.5653 - mae: 11.5653\n",
      "Epoch 99/500\n",
      "2/2 [==============================] - 0s 500us/step - loss: 13.8827 - mae: 13.8827\n",
      "Epoch 100/500\n",
      "2/2 [==============================] - 0s 0s/step - loss: 20.2277 - mae: 20.2277\n",
      "Epoch 101/500\n",
      "2/2 [==============================] - 0s 0s/step - loss: 11.4479 - mae: 11.4479\n",
      "Epoch 102/500\n",
      "2/2 [==============================] - 0s 500us/step - loss: 17.4842 - mae: 17.4842\n",
      "Epoch 103/500\n",
      "2/2 [==============================] - 0s 500us/step - loss: 7.0217 - mae: 7.0217\n",
      "Epoch 104/500\n",
      "2/2 [==============================] - 0s 500us/step - loss: 23.5789 - mae: 23.5789\n",
      "Epoch 105/500\n",
      "2/2 [==============================] - 0s 499us/step - loss: 16.8932 - mae: 16.8932\n",
      "Epoch 106/500\n",
      "2/2 [==============================] - 0s 501us/step - loss: 9.2954 - mae: 9.2954\n",
      "Epoch 107/500\n",
      "2/2 [==============================] - 0s 501us/step - loss: 25.3749 - mae: 25.3749\n",
      "Epoch 108/500\n",
      "2/2 [==============================] - 0s 0s/step - loss: 13.4621 - mae: 13.4621\n",
      "Epoch 109/500\n",
      "2/2 [==============================] - 0s 500us/step - loss: 9.5238 - mae: 9.5238\n",
      "Epoch 110/500\n",
      "2/2 [==============================] - 0s 499us/step - loss: 9.6722 - mae: 9.6722\n",
      "Epoch 111/500\n",
      "2/2 [==============================] - 0s 501us/step - loss: 14.5987 - mae: 14.5987\n",
      "Epoch 112/500\n",
      "2/2 [==============================] - 0s 500us/step - loss: 9.5670 - mae: 9.5670\n",
      "Epoch 113/500\n",
      "2/2 [==============================] - 0s 500us/step - loss: 17.8092 - mae: 17.8092\n",
      "Epoch 114/500\n",
      "2/2 [==============================] - 0s 500us/step - loss: 17.1782 - mae: 17.1782\n",
      "Epoch 115/500\n",
      "2/2 [==============================] - 0s 500us/step - loss: 11.1182 - mae: 11.1182\n",
      "Epoch 116/500\n",
      "2/2 [==============================] - 0s 500us/step - loss: 23.3071 - mae: 23.3071\n",
      "Epoch 117/500\n",
      "2/2 [==============================] - 0s 0s/step - loss: 9.6144 - mae: 9.6144\n",
      "Epoch 118/500\n",
      "2/2 [==============================] - 0s 500us/step - loss: 10.6899 - mae: 10.6899\n",
      "Epoch 119/500\n",
      "2/2 [==============================] - 0s 500us/step - loss: 8.0355 - mae: 8.0355\n",
      "Epoch 120/500\n",
      "2/2 [==============================] - 0s 501us/step - loss: 29.6859 - mae: 29.6859\n",
      "Epoch 121/500\n",
      "2/2 [==============================] - 0s 1ms/step - loss: 8.0714 - mae: 8.0714\n",
      "Epoch 122/500\n",
      "2/2 [==============================] - 0s 500us/step - loss: 28.3086 - mae: 28.3086\n",
      "Epoch 123/500\n",
      "2/2 [==============================] - 0s 500us/step - loss: 32.9014 - mae: 32.9014\n",
      "Epoch 124/500\n",
      "2/2 [==============================] - 0s 500us/step - loss: 19.6291 - mae: 19.6291\n",
      "Epoch 125/500\n",
      "2/2 [==============================] - 0s 500us/step - loss: 7.0095 - mae: 7.0095\n",
      "Epoch 126/500\n",
      "2/2 [==============================] - 0s 501us/step - loss: 21.8056 - mae: 21.8056\n",
      "Epoch 127/500\n",
      "2/2 [==============================] - 0s 500us/step - loss: 7.9812 - mae: 7.9812\n",
      "Epoch 128/500\n",
      "2/2 [==============================] - 0s 500us/step - loss: 21.0585 - mae: 21.0585\n",
      "Epoch 129/500\n",
      "2/2 [==============================] - 0s 0s/step - loss: 9.0107 - mae: 9.0107\n",
      "Epoch 130/500\n",
      "2/2 [==============================] - 0s 500us/step - loss: 24.0502 - mae: 24.0502\n",
      "Epoch 131/500\n",
      "2/2 [==============================] - 0s 500us/step - loss: 9.7537 - mae: 9.7537\n",
      "Epoch 132/500\n",
      "2/2 [==============================] - 0s 498us/step - loss: 18.3052 - mae: 18.3052\n",
      "Epoch 133/500\n",
      "2/2 [==============================] - 0s 500us/step - loss: 7.5833 - mae: 7.5833\n",
      "Epoch 134/500\n",
      "2/2 [==============================] - 0s 500us/step - loss: 18.5755 - mae: 18.5755\n",
      "Epoch 135/500\n",
      "2/2 [==============================] - 0s 500us/step - loss: 10.5360 - mae: 10.5360\n",
      "Epoch 136/500\n",
      "2/2 [==============================] - 0s 500us/step - loss: 18.2694 - mae: 18.2694\n",
      "Epoch 137/500\n",
      "2/2 [==============================] - 0s 501us/step - loss: 23.1658 - mae: 23.1658\n",
      "Epoch 138/500\n",
      "2/2 [==============================] - 0s 500us/step - loss: 9.1362 - mae: 9.1362\n",
      "Epoch 139/500\n",
      "2/2 [==============================] - 0s 500us/step - loss: 8.9181 - mae: 8.9181\n",
      "Epoch 140/500\n",
      "2/2 [==============================] - 0s 501us/step - loss: 16.4732 - mae: 16.4732\n",
      "Epoch 141/500\n",
      "2/2 [==============================] - 0s 499us/step - loss: 8.4208 - mae: 8.4208\n",
      "Epoch 142/500\n",
      "2/2 [==============================] - 0s 501us/step - loss: 36.9540 - mae: 36.9540\n",
      "Epoch 143/500\n",
      "2/2 [==============================] - 0s 500us/step - loss: 25.5820 - mae: 25.5820\n",
      "Epoch 144/500\n",
      "2/2 [==============================] - 0s 500us/step - loss: 9.5392 - mae: 9.5392\n",
      "Epoch 145/500\n",
      "2/2 [==============================] - 0s 500us/step - loss: 26.6058 - mae: 26.6058\n",
      "Epoch 146/500\n",
      "2/2 [==============================] - 0s 500us/step - loss: 8.7248 - mae: 8.7248\n",
      "Epoch 147/500\n",
      "2/2 [==============================] - 0s 500us/step - loss: 15.6172 - mae: 15.6172\n",
      "Epoch 148/500\n",
      "2/2 [==============================] - 0s 0s/step - loss: 18.3065 - mae: 18.3065\n",
      "Epoch 149/500\n",
      "2/2 [==============================] - 0s 499us/step - loss: 8.1994 - mae: 8.1994\n",
      "Epoch 150/500\n",
      "2/2 [==============================] - 0s 500us/step - loss: 7.4964 - mae: 7.4964\n",
      "Epoch 151/500\n",
      "2/2 [==============================] - 0s 501us/step - loss: 18.3374 - mae: 18.3374\n",
      "Epoch 152/500\n",
      "2/2 [==============================] - 0s 500us/step - loss: 10.2895 - mae: 10.2895\n",
      "Epoch 153/500\n",
      "2/2 [==============================] - 0s 500us/step - loss: 29.6425 - mae: 29.6425\n",
      "Epoch 154/500\n",
      "2/2 [==============================] - 0s 501us/step - loss: 10.5556 - mae: 10.5556\n",
      "Epoch 155/500\n",
      "2/2 [==============================] - 0s 500us/step - loss: 15.4537 - mae: 15.4537\n",
      "Epoch 156/500\n",
      "2/2 [==============================] - 0s 500us/step - loss: 17.0174 - mae: 17.0174\n",
      "Epoch 157/500\n",
      "2/2 [==============================] - 0s 500us/step - loss: 32.8218 - mae: 32.8218\n",
      "Epoch 158/500\n",
      "2/2 [==============================] - 0s 500us/step - loss: 10.7038 - mae: 10.7038\n",
      "Epoch 159/500\n",
      "2/2 [==============================] - 0s 499us/step - loss: 8.9054 - mae: 8.9054\n",
      "Epoch 160/500\n",
      "2/2 [==============================] - 0s 500us/step - loss: 22.1321 - mae: 22.1321\n",
      "Epoch 161/500\n",
      "2/2 [==============================] - 0s 500us/step - loss: 11.7113 - mae: 11.7113\n",
      "Epoch 162/500\n",
      "2/2 [==============================] - 0s 501us/step - loss: 21.5734 - mae: 21.5734\n",
      "Epoch 163/500\n",
      "2/2 [==============================] - 0s 500us/step - loss: 19.2485 - mae: 19.2485\n",
      "Epoch 164/500\n",
      "2/2 [==============================] - 0s 500us/step - loss: 11.0156 - mae: 11.0156\n",
      "Epoch 165/500\n",
      "2/2 [==============================] - 0s 501us/step - loss: 9.6187 - mae: 9.6187\n",
      "Epoch 166/500\n",
      "2/2 [==============================] - 0s 0s/step - loss: 21.5908 - mae: 21.5908\n",
      "Epoch 167/500\n",
      "2/2 [==============================] - 0s 500us/step - loss: 26.2851 - mae: 26.2851\n",
      "Epoch 168/500\n",
      "2/2 [==============================] - 0s 500us/step - loss: 9.8525 - mae: 9.8525\n",
      "Epoch 169/500\n",
      "2/2 [==============================] - 0s 500us/step - loss: 22.5631 - mae: 22.5631\n",
      "Epoch 170/500\n"
     ]
    },
    {
     "name": "stdout",
     "output_type": "stream",
     "text": [
      "2/2 [==============================] - 0s 500us/step - loss: 10.1499 - mae: 10.1499\n",
      "Epoch 171/500\n",
      "2/2 [==============================] - 0s 501us/step - loss: 18.0464 - mae: 18.0464\n",
      "Epoch 172/500\n",
      "2/2 [==============================] - 0s 500us/step - loss: 28.8377 - mae: 28.8377\n",
      "Epoch 173/500\n",
      "2/2 [==============================] - 0s 0s/step - loss: 16.5280 - mae: 16.5280\n",
      "Epoch 174/500\n",
      "2/2 [==============================] - 0s 500us/step - loss: 11.2115 - mae: 11.2115\n",
      "Epoch 175/500\n",
      "2/2 [==============================] - 0s 501us/step - loss: 27.5839 - mae: 27.5839\n",
      "Epoch 176/500\n",
      "2/2 [==============================] - 0s 0s/step - loss: 8.2680 - mae: 8.2680\n",
      "Epoch 177/500\n",
      "2/2 [==============================] - 0s 500us/step - loss: 9.2580 - mae: 9.2580\n",
      "Epoch 178/500\n",
      "2/2 [==============================] - 0s 500us/step - loss: 18.1440 - mae: 18.1440\n",
      "Epoch 179/500\n",
      "2/2 [==============================] - 0s 502us/step - loss: 10.5995 - mae: 10.5995\n",
      "Epoch 180/500\n",
      "2/2 [==============================] - 0s 500us/step - loss: 7.8992 - mae: 7.8992\n",
      "Epoch 181/500\n",
      "2/2 [==============================] - 0s 500us/step - loss: 17.4015 - mae: 17.4015\n",
      "Epoch 182/500\n",
      "2/2 [==============================] - 0s 500us/step - loss: 11.0089 - mae: 11.0089\n",
      "Epoch 183/500\n",
      "2/2 [==============================] - 0s 499us/step - loss: 11.7027 - mae: 11.7027\n",
      "Epoch 184/500\n",
      "2/2 [==============================] - 0s 0s/step - loss: 30.4062 - mae: 30.4062\n",
      "Epoch 185/500\n",
      "2/2 [==============================] - 0s 500us/step - loss: 7.5557 - mae: 7.5557\n",
      "Epoch 186/500\n",
      "2/2 [==============================] - 0s 500us/step - loss: 15.9905 - mae: 15.9905\n",
      "Epoch 187/500\n",
      "2/2 [==============================] - 0s 501us/step - loss: 8.5579 - mae: 8.5579\n",
      "Epoch 188/500\n",
      "2/2 [==============================] - 0s 500us/step - loss: 28.7339 - mae: 28.7339\n",
      "Epoch 189/500\n",
      "2/2 [==============================] - 0s 501us/step - loss: 13.1689 - mae: 13.1689\n",
      "Epoch 190/500\n",
      "2/2 [==============================] - 0s 501us/step - loss: 18.3101 - mae: 18.3101\n",
      "Epoch 191/500\n",
      "2/2 [==============================] - 0s 500us/step - loss: 13.7376 - mae: 13.7376\n",
      "Epoch 192/500\n",
      "2/2 [==============================] - 0s 0s/step - loss: 13.7104 - mae: 13.7104\n",
      "Epoch 193/500\n",
      "2/2 [==============================] - 0s 500us/step - loss: 28.5842 - mae: 28.5842\n",
      "Epoch 194/500\n",
      "2/2 [==============================] - 0s 502us/step - loss: 7.0707 - mae: 7.0707\n",
      "Epoch 195/500\n",
      "2/2 [==============================] - 0s 500us/step - loss: 7.0550 - mae: 7.0550\n",
      "Epoch 196/500\n",
      "2/2 [==============================] - 0s 500us/step - loss: 22.0067 - mae: 22.0067\n",
      "Epoch 197/500\n",
      "2/2 [==============================] - 0s 500us/step - loss: 20.8443 - mae: 20.8443\n",
      "Epoch 198/500\n",
      "2/2 [==============================] - 0s 500us/step - loss: 12.4713 - mae: 12.4713\n",
      "Epoch 199/500\n",
      "2/2 [==============================] - 0s 500us/step - loss: 17.9099 - mae: 17.9099\n",
      "Epoch 200/500\n",
      "2/2 [==============================] - 0s 500us/step - loss: 13.7493 - mae: 13.7493\n",
      "Epoch 201/500\n",
      "2/2 [==============================] - 0s 501us/step - loss: 5.4687 - mae: 5.4687\n",
      "Epoch 202/500\n",
      "2/2 [==============================] - 0s 499us/step - loss: 13.7005 - mae: 13.7005\n",
      "Epoch 203/500\n",
      "2/2 [==============================] - 0s 499us/step - loss: 9.4142 - mae: 9.4142\n",
      "Epoch 204/500\n",
      "2/2 [==============================] - 0s 500us/step - loss: 20.9796 - mae: 20.9796\n",
      "Epoch 205/500\n",
      "2/2 [==============================] - 0s 0s/step - loss: 9.5470 - mae: 9.5470\n",
      "Epoch 206/500\n",
      "2/2 [==============================] - 0s 499us/step - loss: 11.7256 - mae: 11.7256\n",
      "Epoch 207/500\n",
      "2/2 [==============================] - 0s 500us/step - loss: 14.3772 - mae: 14.3772\n",
      "Epoch 208/500\n",
      "2/2 [==============================] - 0s 499us/step - loss: 14.8579 - mae: 14.8579\n",
      "Epoch 209/500\n",
      "2/2 [==============================] - 0s 500us/step - loss: 14.9706 - mae: 14.9706\n",
      "Epoch 210/500\n",
      "2/2 [==============================] - 0s 500us/step - loss: 17.8998 - mae: 17.8998\n",
      "Epoch 211/500\n",
      "2/2 [==============================] - 0s 500us/step - loss: 9.8327 - mae: 9.8327\n",
      "Epoch 212/500\n",
      "2/2 [==============================] - 0s 500us/step - loss: 18.3352 - mae: 18.3352\n",
      "Epoch 213/500\n",
      "2/2 [==============================] - 0s 500us/step - loss: 15.0383 - mae: 15.0383\n",
      "Epoch 214/500\n",
      "2/2 [==============================] - 0s 500us/step - loss: 14.5874 - mae: 14.5874\n",
      "Epoch 215/500\n",
      "2/2 [==============================] - 0s 0s/step - loss: 23.3015 - mae: 23.3015\n",
      "Epoch 216/500\n",
      "2/2 [==============================] - 0s 500us/step - loss: 13.3613 - mae: 13.3613\n",
      "Epoch 217/500\n",
      "2/2 [==============================] - 0s 500us/step - loss: 9.8517 - mae: 9.8517\n",
      "Epoch 218/500\n",
      "2/2 [==============================] - 0s 500us/step - loss: 12.5451 - mae: 12.5451\n",
      "Epoch 219/500\n",
      "2/2 [==============================] - 0s 499us/step - loss: 4.9472 - mae: 4.9472\n",
      "Epoch 220/500\n",
      "2/2 [==============================] - 0s 501us/step - loss: 7.1130 - mae: 7.1130\n",
      "Epoch 221/500\n",
      "2/2 [==============================] - 0s 0s/step - loss: 35.4567 - mae: 35.4567\n",
      "Epoch 222/500\n",
      "2/2 [==============================] - 0s 0s/step - loss: 34.8634 - mae: 34.8634\n",
      "Epoch 223/500\n",
      "2/2 [==============================] - 0s 500us/step - loss: 7.9846 - mae: 7.9846\n",
      "Epoch 224/500\n",
      "2/2 [==============================] - 0s 500us/step - loss: 14.7004 - mae: 14.7004\n",
      "Epoch 225/500\n",
      "2/2 [==============================] - 0s 500us/step - loss: 16.7196 - mae: 16.7196\n",
      "Epoch 226/500\n",
      "2/2 [==============================] - 0s 500us/step - loss: 15.9329 - mae: 15.9329\n",
      "Epoch 227/500\n",
      "2/2 [==============================] - 0s 0s/step - loss: 16.1644 - mae: 16.1644\n",
      "Epoch 228/500\n",
      "2/2 [==============================] - 0s 500us/step - loss: 13.9324 - mae: 13.9324\n",
      "Epoch 229/500\n",
      "2/2 [==============================] - 0s 500us/step - loss: 18.0504 - mae: 18.0504\n",
      "Epoch 230/500\n",
      "2/2 [==============================] - 0s 500us/step - loss: 15.6120 - mae: 15.6120\n",
      "Epoch 231/500\n",
      "2/2 [==============================] - 0s 500us/step - loss: 21.2041 - mae: 21.2041\n",
      "Epoch 232/500\n",
      "2/2 [==============================] - 0s 500us/step - loss: 25.2732 - mae: 25.2732\n",
      "Epoch 233/500\n",
      "2/2 [==============================] - 0s 501us/step - loss: 16.3176 - mae: 16.3176\n",
      "Epoch 234/500\n",
      "2/2 [==============================] - 0s 500us/step - loss: 7.2729 - mae: 7.2729\n",
      "Epoch 235/500\n",
      "2/2 [==============================] - 0s 500us/step - loss: 16.9688 - mae: 16.9688\n",
      "Epoch 236/500\n",
      "2/2 [==============================] - 0s 501us/step - loss: 7.1225 - mae: 7.1225\n",
      "Epoch 237/500\n",
      "2/2 [==============================] - 0s 1000us/step - loss: 9.2058 - mae: 9.2058\n",
      "Epoch 238/500\n",
      "2/2 [==============================] - 0s 499us/step - loss: 8.0961 - mae: 8.0961\n",
      "Epoch 239/500\n",
      "2/2 [==============================] - 0s 500us/step - loss: 17.0538 - mae: 17.0538\n",
      "Epoch 240/500\n",
      "2/2 [==============================] - 0s 501us/step - loss: 8.8627 - mae: 8.8627\n",
      "Epoch 241/500\n",
      "2/2 [==============================] - 0s 500us/step - loss: 13.1711 - mae: 13.1711\n",
      "Epoch 242/500\n",
      "2/2 [==============================] - 0s 500us/step - loss: 8.7886 - mae: 8.7886\n",
      "Epoch 243/500\n",
      "2/2 [==============================] - 0s 499us/step - loss: 18.8161 - mae: 18.8161\n",
      "Epoch 244/500\n",
      "2/2 [==============================] - 0s 501us/step - loss: 14.0531 - mae: 14.0531\n",
      "Epoch 245/500\n",
      "2/2 [==============================] - 0s 500us/step - loss: 14.6831 - mae: 14.6831\n",
      "Epoch 246/500\n",
      "2/2 [==============================] - 0s 500us/step - loss: 15.8045 - mae: 15.8045\n",
      "Epoch 247/500\n",
      "2/2 [==============================] - 0s 500us/step - loss: 17.6810 - mae: 17.6810\n",
      "Epoch 248/500\n",
      "2/2 [==============================] - 0s 501us/step - loss: 13.2367 - mae: 13.2367\n",
      "Epoch 249/500\n",
      "2/2 [==============================] - 0s 500us/step - loss: 14.5070 - mae: 14.5070\n",
      "Epoch 250/500\n",
      "2/2 [==============================] - 0s 500us/step - loss: 23.2322 - mae: 23.2322\n",
      "Epoch 251/500\n",
      "2/2 [==============================] - 0s 500us/step - loss: 9.3009 - mae: 9.3009\n",
      "Epoch 252/500\n",
      "2/2 [==============================] - 0s 500us/step - loss: 36.6568 - mae: 36.6568\n",
      "Epoch 253/500\n",
      "2/2 [==============================] - 0s 499us/step - loss: 21.8205 - mae: 21.8205\n",
      "Epoch 254/500\n"
     ]
    },
    {
     "name": "stdout",
     "output_type": "stream",
     "text": [
      "2/2 [==============================] - 0s 499us/step - loss: 7.2792 - mae: 7.2792\n",
      "Epoch 255/500\n",
      "2/2 [==============================] - 0s 500us/step - loss: 24.7126 - mae: 24.7126\n",
      "Epoch 256/500\n",
      "2/2 [==============================] - 0s 500us/step - loss: 12.4220 - mae: 12.4220\n",
      "Epoch 257/500\n",
      "2/2 [==============================] - 0s 500us/step - loss: 10.5823 - mae: 10.5823\n",
      "Epoch 258/500\n",
      "2/2 [==============================] - 0s 501us/step - loss: 14.4883 - mae: 14.4883\n",
      "Epoch 259/500\n",
      "2/2 [==============================] - 0s 500us/step - loss: 8.6132 - mae: 8.6132\n",
      "Epoch 260/500\n",
      "2/2 [==============================] - 0s 499us/step - loss: 43.0580 - mae: 43.0580\n",
      "Epoch 261/500\n",
      "2/2 [==============================] - 0s 501us/step - loss: 18.4611 - mae: 18.4611\n",
      "Epoch 262/500\n",
      "2/2 [==============================] - 0s 0s/step - loss: 6.8820 - mae: 6.8820\n",
      "Epoch 263/500\n",
      "2/2 [==============================] - 0s 500us/step - loss: 13.7211 - mae: 13.7211\n",
      "Epoch 264/500\n",
      "2/2 [==============================] - 0s 500us/step - loss: 21.0154 - mae: 21.0154\n",
      "Epoch 265/500\n",
      "2/2 [==============================] - 0s 501us/step - loss: 19.3730 - mae: 19.3730\n",
      "Epoch 266/500\n",
      "2/2 [==============================] - 0s 500us/step - loss: 11.4735 - mae: 11.4735\n",
      "Epoch 267/500\n",
      "2/2 [==============================] - 0s 500us/step - loss: 7.5302 - mae: 7.5302\n",
      "Epoch 268/500\n",
      "2/2 [==============================] - 0s 500us/step - loss: 21.6453 - mae: 21.6453\n",
      "Epoch 269/500\n",
      "2/2 [==============================] - 0s 500us/step - loss: 33.1785 - mae: 33.1785\n",
      "Epoch 270/500\n",
      "2/2 [==============================] - 0s 500us/step - loss: 10.0833 - mae: 10.0833\n",
      "Epoch 271/500\n",
      "2/2 [==============================] - 0s 0s/step - loss: 12.1012 - mae: 12.1012\n",
      "Epoch 272/500\n",
      "2/2 [==============================] - 0s 500us/step - loss: 26.1372 - mae: 26.1372\n",
      "Epoch 273/500\n",
      "2/2 [==============================] - 0s 500us/step - loss: 12.1751 - mae: 12.1751\n",
      "Epoch 274/500\n",
      "2/2 [==============================] - 0s 1000us/step - loss: 13.3272 - mae: 13.3272\n",
      "Epoch 275/500\n",
      "2/2 [==============================] - 0s 499us/step - loss: 29.3775 - mae: 29.3775\n",
      "Epoch 276/500\n",
      "2/2 [==============================] - 0s 0s/step - loss: 7.3329 - mae: 7.3329\n",
      "Epoch 277/500\n",
      "2/2 [==============================] - 0s 500us/step - loss: 31.1362 - mae: 31.1362\n",
      "Epoch 278/500\n",
      "2/2 [==============================] - 0s 500us/step - loss: 12.3016 - mae: 12.3016\n",
      "Epoch 279/500\n",
      "2/2 [==============================] - 0s 501us/step - loss: 16.4103 - mae: 16.4103\n",
      "Epoch 280/500\n",
      "2/2 [==============================] - 0s 500us/step - loss: 21.9118 - mae: 21.9118\n",
      "Epoch 281/500\n",
      "2/2 [==============================] - 0s 0s/step - loss: 22.1500 - mae: 22.1500\n",
      "Epoch 282/500\n",
      "2/2 [==============================] - 0s 500us/step - loss: 7.7429 - mae: 7.7429\n",
      "Epoch 283/500\n",
      "2/2 [==============================] - 0s 501us/step - loss: 8.1429 - mae: 8.1429\n",
      "Epoch 284/500\n",
      "2/2 [==============================] - 0s 500us/step - loss: 24.9434 - mae: 24.9434\n",
      "Epoch 285/500\n",
      "2/2 [==============================] - 0s 500us/step - loss: 13.6958 - mae: 13.6958\n",
      "Epoch 286/500\n",
      "2/2 [==============================] - 0s 0s/step - loss: 6.8926 - mae: 6.8926\n",
      "Epoch 287/500\n",
      "2/2 [==============================] - 0s 500us/step - loss: 24.5352 - mae: 24.5352\n",
      "Epoch 288/500\n",
      "2/2 [==============================] - 0s 0s/step - loss: 20.1721 - mae: 20.1721\n",
      "Epoch 289/500\n",
      "2/2 [==============================] - 0s 500us/step - loss: 11.9658 - mae: 11.9658\n",
      "Epoch 290/500\n",
      "2/2 [==============================] - 0s 500us/step - loss: 16.5391 - mae: 16.5391\n",
      "Epoch 291/500\n",
      "2/2 [==============================] - 0s 500us/step - loss: 16.8017 - mae: 16.8017\n",
      "Epoch 292/500\n",
      "2/2 [==============================] - 0s 500us/step - loss: 9.4642 - mae: 9.4642\n",
      "Epoch 293/500\n",
      "2/2 [==============================] - 0s 500us/step - loss: 15.2711 - mae: 15.2711\n",
      "Epoch 294/500\n",
      "2/2 [==============================] - 0s 500us/step - loss: 22.7179 - mae: 22.7179\n",
      "Epoch 295/500\n",
      "2/2 [==============================] - 0s 500us/step - loss: 17.9234 - mae: 17.9234\n",
      "Epoch 296/500\n",
      "2/2 [==============================] - 0s 499us/step - loss: 6.1742 - mae: 6.1742\n",
      "Epoch 297/500\n",
      "2/2 [==============================] - 0s 500us/step - loss: 10.9440 - mae: 10.9440\n",
      "Epoch 298/500\n",
      "2/2 [==============================] - 0s 500us/step - loss: 23.1530 - mae: 23.1530\n",
      "Epoch 299/500\n",
      "2/2 [==============================] - 0s 499us/step - loss: 17.7331 - mae: 17.7331\n",
      "Epoch 300/500\n",
      "2/2 [==============================] - 0s 500us/step - loss: 6.9824 - mae: 6.9824\n",
      "Epoch 301/500\n",
      "2/2 [==============================] - 0s 500us/step - loss: 25.1857 - mae: 25.1857\n",
      "Epoch 302/500\n",
      "2/2 [==============================] - 0s 500us/step - loss: 8.9025 - mae: 8.9025\n",
      "Epoch 303/500\n",
      "2/2 [==============================] - 0s 0s/step - loss: 17.7668 - mae: 17.7668\n",
      "Epoch 304/500\n",
      "2/2 [==============================] - 0s 500us/step - loss: 11.0002 - mae: 11.0002\n",
      "Epoch 305/500\n",
      "2/2 [==============================] - 0s 500us/step - loss: 12.9191 - mae: 12.9191\n",
      "Epoch 306/500\n",
      "2/2 [==============================] - 0s 500us/step - loss: 8.4033 - mae: 8.4033\n",
      "Epoch 307/500\n",
      "2/2 [==============================] - 0s 0s/step - loss: 13.6094 - mae: 13.6094\n",
      "Epoch 308/500\n",
      "2/2 [==============================] - 0s 500us/step - loss: 7.4404 - mae: 7.4404\n",
      "Epoch 309/500\n",
      "2/2 [==============================] - 0s 500us/step - loss: 9.4642 - mae: 9.4642\n",
      "Epoch 310/500\n",
      "2/2 [==============================] - 0s 499us/step - loss: 10.7099 - mae: 10.7099\n",
      "Epoch 311/500\n",
      "2/2 [==============================] - 0s 501us/step - loss: 13.2814 - mae: 13.2814\n",
      "Epoch 312/500\n",
      "2/2 [==============================] - 0s 500us/step - loss: 29.9763 - mae: 29.9763\n",
      "Epoch 313/500\n",
      "2/2 [==============================] - 0s 501us/step - loss: 7.6304 - mae: 7.6304\n",
      "Epoch 314/500\n",
      "2/2 [==============================] - 0s 500us/step - loss: 9.9106 - mae: 9.9106\n",
      "Epoch 315/500\n",
      "2/2 [==============================] - 0s 501us/step - loss: 23.7669 - mae: 23.7669\n",
      "Epoch 316/500\n",
      "2/2 [==============================] - 0s 0s/step - loss: 16.3936 - mae: 16.3936\n",
      "Epoch 317/500\n",
      "2/2 [==============================] - 0s 500us/step - loss: 21.0758 - mae: 21.0758\n",
      "Epoch 318/500\n",
      "2/2 [==============================] - 0s 500us/step - loss: 7.9367 - mae: 7.9367\n",
      "Epoch 319/500\n",
      "2/2 [==============================] - 0s 500us/step - loss: 17.9731 - mae: 17.9731\n",
      "Epoch 320/500\n",
      "2/2 [==============================] - 0s 500us/step - loss: 10.2375 - mae: 10.2375\n",
      "Epoch 321/500\n",
      "2/2 [==============================] - 0s 500us/step - loss: 8.3338 - mae: 8.3338\n",
      "Epoch 322/500\n",
      "2/2 [==============================] - 0s 0s/step - loss: 5.0621 - mae: 5.0621\n",
      "Epoch 323/500\n",
      "2/2 [==============================] - 0s 498us/step - loss: 23.5109 - mae: 23.5109\n",
      "Epoch 324/500\n",
      "2/2 [==============================] - 0s 500us/step - loss: 6.8309 - mae: 6.8309\n",
      "Epoch 325/500\n",
      "2/2 [==============================] - 0s 500us/step - loss: 16.3863 - mae: 16.3863\n",
      "Epoch 326/500\n",
      "2/2 [==============================] - 0s 500us/step - loss: 7.5019 - mae: 7.5019\n",
      "Epoch 327/500\n",
      "2/2 [==============================] - 0s 500us/step - loss: 20.0573 - mae: 20.0573\n",
      "Epoch 328/500\n",
      "2/2 [==============================] - 0s 499us/step - loss: 13.7661 - mae: 13.7661\n",
      "Epoch 329/500\n",
      "2/2 [==============================] - 0s 0s/step - loss: 16.8282 - mae: 16.8282\n",
      "Epoch 330/500\n",
      "2/2 [==============================] - 0s 500us/step - loss: 7.0514 - mae: 7.0514\n",
      "Epoch 331/500\n",
      "2/2 [==============================] - 0s 500us/step - loss: 21.4846 - mae: 21.4846\n",
      "Epoch 332/500\n",
      "2/2 [==============================] - 0s 500us/step - loss: 12.2880 - mae: 12.2880\n",
      "Epoch 333/500\n",
      "2/2 [==============================] - 0s 499us/step - loss: 11.8117 - mae: 11.8117\n",
      "Epoch 334/500\n",
      "2/2 [==============================] - 0s 499us/step - loss: 8.3600 - mae: 8.3600\n",
      "Epoch 335/500\n",
      "2/2 [==============================] - 0s 500us/step - loss: 12.4833 - mae: 12.4833\n",
      "Epoch 336/500\n",
      "2/2 [==============================] - 0s 500us/step - loss: 32.2171 - mae: 32.2171\n",
      "Epoch 337/500\n",
      "2/2 [==============================] - 0s 501us/step - loss: 10.4477 - mae: 10.4477\n",
      "Epoch 338/500\n"
     ]
    },
    {
     "name": "stdout",
     "output_type": "stream",
     "text": [
      "2/2 [==============================] - 0s 0s/step - loss: 19.6832 - mae: 19.6832\n",
      "Epoch 339/500\n",
      "2/2 [==============================] - 0s 499us/step - loss: 35.0762 - mae: 35.0762\n",
      "Epoch 340/500\n",
      "2/2 [==============================] - 0s 500us/step - loss: 10.4192 - mae: 10.4192\n",
      "Epoch 341/500\n",
      "2/2 [==============================] - 0s 500us/step - loss: 9.7625 - mae: 9.7625\n",
      "Epoch 342/500\n",
      "2/2 [==============================] - 0s 500us/step - loss: 11.9500 - mae: 11.9500\n",
      "Epoch 343/500\n",
      "2/2 [==============================] - 0s 499us/step - loss: 9.3943 - mae: 9.3943\n",
      "Epoch 344/500\n",
      "2/2 [==============================] - 0s 501us/step - loss: 5.6071 - mae: 5.6071\n",
      "Epoch 345/500\n",
      "2/2 [==============================] - 0s 499us/step - loss: 37.4876 - mae: 37.4876\n",
      "Epoch 346/500\n",
      "2/2 [==============================] - 0s 500us/step - loss: 16.8830 - mae: 16.8830\n",
      "Epoch 347/500\n",
      "2/2 [==============================] - 0s 500us/step - loss: 12.8748 - mae: 12.8748\n",
      "Epoch 348/500\n",
      "2/2 [==============================] - 0s 500us/step - loss: 8.1960 - mae: 8.1960\n",
      "Epoch 349/500\n",
      "2/2 [==============================] - 0s 508us/step - loss: 13.5568 - mae: 13.5568\n",
      "Epoch 350/500\n",
      "2/2 [==============================] - 0s 500us/step - loss: 15.4354 - mae: 15.4354\n",
      "Epoch 351/500\n",
      "2/2 [==============================] - 0s 500us/step - loss: 32.9626 - mae: 32.9626\n",
      "Epoch 352/500\n",
      "2/2 [==============================] - 0s 501us/step - loss: 14.2040 - mae: 14.2040\n",
      "Epoch 353/500\n",
      "2/2 [==============================] - 0s 500us/step - loss: 15.9196 - mae: 15.9196\n",
      "Epoch 354/500\n",
      "2/2 [==============================] - 0s 500us/step - loss: 19.0878 - mae: 19.0878\n",
      "Epoch 355/500\n",
      "2/2 [==============================] - 0s 500us/step - loss: 34.1178 - mae: 34.1178\n",
      "Epoch 356/500\n",
      "2/2 [==============================] - 0s 0s/step - loss: 7.6798 - mae: 7.6798\n",
      "Epoch 357/500\n",
      "2/2 [==============================] - 0s 500us/step - loss: 25.2287 - mae: 25.2287\n",
      "Epoch 358/500\n",
      "2/2 [==============================] - 0s 500us/step - loss: 22.6759 - mae: 22.6759\n",
      "Epoch 359/500\n",
      "2/2 [==============================] - 0s 0s/step - loss: 8.8765 - mae: 8.8765\n",
      "Epoch 360/500\n",
      "2/2 [==============================] - 0s 500us/step - loss: 21.4709 - mae: 21.4709\n",
      "Epoch 361/500\n",
      "2/2 [==============================] - 0s 500us/step - loss: 20.6073 - mae: 20.6073\n",
      "Epoch 362/500\n",
      "2/2 [==============================] - 0s 500us/step - loss: 7.0611 - mae: 7.0611\n",
      "Epoch 363/500\n",
      "2/2 [==============================] - 0s 501us/step - loss: 25.8117 - mae: 25.8117\n",
      "Epoch 364/500\n",
      "2/2 [==============================] - 0s 500us/step - loss: 32.2247 - mae: 32.2247\n",
      "Epoch 365/500\n",
      "2/2 [==============================] - 0s 500us/step - loss: 10.0205 - mae: 10.0205\n",
      "Epoch 366/500\n",
      "2/2 [==============================] - 0s 500us/step - loss: 9.6722 - mae: 9.6722\n",
      "Epoch 367/500\n",
      "2/2 [==============================] - 0s 1ms/step - loss: 30.4171 - mae: 30.4171\n",
      "Epoch 368/500\n",
      "2/2 [==============================] - 0s 0s/step - loss: 10.5020 - mae: 10.5020\n",
      "Epoch 369/500\n",
      "2/2 [==============================] - 0s 500us/step - loss: 14.9909 - mae: 14.9909\n",
      "Epoch 370/500\n",
      "2/2 [==============================] - 0s 499us/step - loss: 14.6580 - mae: 14.6580\n",
      "Epoch 371/500\n",
      "2/2 [==============================] - 0s 500us/step - loss: 23.3672 - mae: 23.3672\n",
      "Epoch 372/500\n",
      "2/2 [==============================] - 0s 0s/step - loss: 13.1025 - mae: 13.1025\n",
      "Epoch 373/500\n",
      "2/2 [==============================] - 0s 500us/step - loss: 9.2586 - mae: 9.2586\n",
      "Epoch 374/500\n",
      "2/2 [==============================] - 0s 500us/step - loss: 9.6648 - mae: 9.6648\n",
      "Epoch 375/500\n",
      "2/2 [==============================] - 0s 500us/step - loss: 13.0041 - mae: 13.0041\n",
      "Epoch 376/500\n",
      "2/2 [==============================] - 0s 501us/step - loss: 14.8863 - mae: 14.8863\n",
      "Epoch 377/500\n",
      "2/2 [==============================] - 0s 500us/step - loss: 14.7932 - mae: 14.7932\n",
      "Epoch 378/500\n",
      "2/2 [==============================] - 0s 500us/step - loss: 16.2751 - mae: 16.2751\n",
      "Epoch 379/500\n",
      "2/2 [==============================] - 0s 501us/step - loss: 20.8307 - mae: 20.8307\n",
      "Epoch 380/500\n",
      "2/2 [==============================] - 0s 501us/step - loss: 33.5318 - mae: 33.5318\n",
      "Epoch 381/500\n",
      "2/2 [==============================] - 0s 498us/step - loss: 8.2166 - mae: 8.2166\n",
      "Epoch 382/500\n",
      "2/2 [==============================] - 0s 500us/step - loss: 13.0960 - mae: 13.0960\n",
      "Epoch 383/500\n",
      "2/2 [==============================] - 0s 500us/step - loss: 8.3999 - mae: 8.3999\n",
      "Epoch 384/500\n",
      "2/2 [==============================] - 0s 0s/step - loss: 7.1283 - mae: 7.1283\n",
      "Epoch 385/500\n",
      "2/2 [==============================] - 0s 499us/step - loss: 10.9390 - mae: 10.9390\n",
      "Epoch 386/500\n",
      "2/2 [==============================] - 0s 500us/step - loss: 19.7654 - mae: 19.7654\n",
      "Epoch 387/500\n",
      "2/2 [==============================] - 0s 0s/step - loss: 24.8625 - mae: 24.8625\n",
      "Epoch 388/500\n",
      "2/2 [==============================] - 0s 500us/step - loss: 8.7422 - mae: 8.7422\n",
      "Epoch 389/500\n",
      "2/2 [==============================] - 0s 500us/step - loss: 5.9488 - mae: 5.9488\n",
      "Epoch 390/500\n",
      "2/2 [==============================] - 0s 500us/step - loss: 24.4401 - mae: 24.4401\n",
      "Epoch 391/500\n",
      "2/2 [==============================] - 0s 500us/step - loss: 5.9771 - mae: 5.9771\n",
      "Epoch 392/500\n",
      "2/2 [==============================] - 0s 500us/step - loss: 16.3250 - mae: 16.3250\n",
      "Epoch 393/500\n",
      "2/2 [==============================] - 0s 500us/step - loss: 6.0917 - mae: 6.0917\n",
      "Epoch 394/500\n",
      "2/2 [==============================] - 0s 500us/step - loss: 11.0963 - mae: 11.0963\n",
      "Epoch 395/500\n",
      "2/2 [==============================] - 0s 500us/step - loss: 14.9601 - mae: 14.9601\n",
      "Epoch 396/500\n",
      "2/2 [==============================] - 0s 499us/step - loss: 7.6462 - mae: 7.6462\n",
      "Epoch 397/500\n",
      "2/2 [==============================] - 0s 500us/step - loss: 8.7654 - mae: 8.7654\n",
      "Epoch 398/500\n",
      "2/2 [==============================] - 0s 501us/step - loss: 14.5992 - mae: 14.5992\n",
      "Epoch 399/500\n",
      "2/2 [==============================] - 0s 500us/step - loss: 11.3166 - mae: 11.3166\n",
      "Epoch 400/500\n",
      "2/2 [==============================] - 0s 500us/step - loss: 21.9080 - mae: 21.9080\n",
      "Epoch 401/500\n",
      "2/2 [==============================] - 0s 0s/step - loss: 14.8654 - mae: 14.8654\n",
      "Epoch 402/500\n",
      "2/2 [==============================] - 0s 500us/step - loss: 8.4970 - mae: 8.4970\n",
      "Epoch 403/500\n",
      "2/2 [==============================] - 0s 501us/step - loss: 10.3957 - mae: 10.3957\n",
      "Epoch 404/500\n",
      "2/2 [==============================] - 0s 500us/step - loss: 10.2556 - mae: 10.2556\n",
      "Epoch 405/500\n",
      "2/2 [==============================] - 0s 501us/step - loss: 6.3392 - mae: 6.3392\n",
      "Epoch 406/500\n",
      "2/2 [==============================] - 0s 500us/step - loss: 17.4602 - mae: 17.4602\n",
      "Epoch 407/500\n",
      "2/2 [==============================] - 0s 500us/step - loss: 11.4627 - mae: 11.4627\n",
      "Epoch 408/500\n",
      "2/2 [==============================] - 0s 502us/step - loss: 20.7294 - mae: 20.7294\n",
      "Epoch 409/500\n",
      "2/2 [==============================] - 0s 500us/step - loss: 31.3339 - mae: 31.3339\n",
      "Epoch 410/500\n",
      "2/2 [==============================] - 0s 499us/step - loss: 9.2542 - mae: 9.2542\n",
      "Epoch 411/500\n",
      "2/2 [==============================] - 0s 499us/step - loss: 14.8621 - mae: 14.8621\n",
      "Epoch 412/500\n",
      "2/2 [==============================] - 0s 501us/step - loss: 21.7182 - mae: 21.7182\n",
      "Epoch 413/500\n",
      "2/2 [==============================] - 0s 499us/step - loss: 12.6615 - mae: 12.6615\n",
      "Epoch 414/500\n",
      "2/2 [==============================] - 0s 499us/step - loss: 6.0687 - mae: 6.0687\n",
      "Epoch 415/500\n",
      "2/2 [==============================] - 0s 500us/step - loss: 13.2201 - mae: 13.2201\n",
      "Epoch 416/500\n",
      "2/2 [==============================] - 0s 500us/step - loss: 27.4244 - mae: 27.4244\n",
      "Epoch 417/500\n",
      "2/2 [==============================] - 0s 0s/step - loss: 10.6407 - mae: 10.6407\n",
      "Epoch 418/500\n",
      "2/2 [==============================] - 0s 500us/step - loss: 12.8230 - mae: 12.8230\n",
      "Epoch 419/500\n",
      "2/2 [==============================] - 0s 502us/step - loss: 15.8836 - mae: 15.8836\n",
      "Epoch 420/500\n",
      "2/2 [==============================] - 0s 0s/step - loss: 24.7510 - mae: 24.7510\n",
      "Epoch 421/500\n",
      "2/2 [==============================] - 0s 500us/step - loss: 17.3753 - mae: 17.3753\n",
      "Epoch 422/500\n"
     ]
    },
    {
     "name": "stdout",
     "output_type": "stream",
     "text": [
      "2/2 [==============================] - 0s 500us/step - loss: 7.8241 - mae: 7.8241\n",
      "Epoch 423/500\n",
      "2/2 [==============================] - 0s 499us/step - loss: 25.3789 - mae: 25.3789\n",
      "Epoch 424/500\n",
      "2/2 [==============================] - 0s 500us/step - loss: 15.1031 - mae: 15.1031\n",
      "Epoch 425/500\n",
      "2/2 [==============================] - 0s 499us/step - loss: 7.1643 - mae: 7.1643\n",
      "Epoch 426/500\n",
      "2/2 [==============================] - 0s 500us/step - loss: 20.3318 - mae: 20.3318\n",
      "Epoch 427/500\n",
      "2/2 [==============================] - 0s 0s/step - loss: 6.3283 - mae: 6.3283\n",
      "Epoch 428/500\n",
      "2/2 [==============================] - 0s 500us/step - loss: 12.9962 - mae: 12.9962\n",
      "Epoch 429/500\n",
      "2/2 [==============================] - 0s 499us/step - loss: 10.7869 - mae: 10.7869\n",
      "Epoch 430/500\n",
      "2/2 [==============================] - 0s 500us/step - loss: 11.4007 - mae: 11.4007\n",
      "Epoch 431/500\n",
      "2/2 [==============================] - 0s 500us/step - loss: 10.6153 - mae: 10.6153\n",
      "Epoch 432/500\n",
      "2/2 [==============================] - 0s 500us/step - loss: 11.4582 - mae: 11.4582\n",
      "Epoch 433/500\n",
      "2/2 [==============================] - 0s 500us/step - loss: 11.3851 - mae: 11.3851\n",
      "Epoch 434/500\n",
      "2/2 [==============================] - 0s 0s/step - loss: 30.3986 - mae: 30.3986\n",
      "Epoch 435/500\n",
      "2/2 [==============================] - 0s 500us/step - loss: 10.5052 - mae: 10.5052\n",
      "Epoch 436/500\n",
      "2/2 [==============================] - 0s 501us/step - loss: 28.8810 - mae: 28.8810\n",
      "Epoch 437/500\n",
      "2/2 [==============================] - 0s 0s/step - loss: 8.5916 - mae: 8.5916\n",
      "Epoch 438/500\n",
      "2/2 [==============================] - 0s 499us/step - loss: 12.7378 - mae: 12.7378\n",
      "Epoch 439/500\n",
      "2/2 [==============================] - 0s 501us/step - loss: 33.6754 - mae: 33.6754\n",
      "Epoch 440/500\n",
      "2/2 [==============================] - 0s 499us/step - loss: 15.0962 - mae: 15.0962\n",
      "Epoch 441/500\n",
      "2/2 [==============================] - 0s 500us/step - loss: 17.4813 - mae: 17.4813\n",
      "Epoch 442/500\n",
      "2/2 [==============================] - 0s 500us/step - loss: 22.3049 - mae: 22.3049\n",
      "Epoch 443/500\n",
      "2/2 [==============================] - 0s 500us/step - loss: 23.5841 - mae: 23.5841\n",
      "Epoch 444/500\n",
      "2/2 [==============================] - 0s 500us/step - loss: 11.0008 - mae: 11.0008\n",
      "Epoch 445/500\n",
      "2/2 [==============================] - 0s 500us/step - loss: 14.9175 - mae: 14.9175\n",
      "Epoch 446/500\n",
      "2/2 [==============================] - 0s 500us/step - loss: 17.9979 - mae: 17.9979\n",
      "Epoch 447/500\n",
      "2/2 [==============================] - 0s 501us/step - loss: 5.4482 - mae: 5.4482\n",
      "Epoch 448/500\n",
      "2/2 [==============================] - 0s 500us/step - loss: 10.0527 - mae: 10.0527\n",
      "Epoch 449/500\n",
      "2/2 [==============================] - 0s 501us/step - loss: 14.0052 - mae: 14.0052\n",
      "Epoch 450/500\n",
      "2/2 [==============================] - 0s 500us/step - loss: 16.7782 - mae: 16.7782\n",
      "Epoch 451/500\n",
      "2/2 [==============================] - 0s 500us/step - loss: 14.2937 - mae: 14.2937\n",
      "Epoch 452/500\n",
      "2/2 [==============================] - 0s 501us/step - loss: 30.6192 - mae: 30.6192\n",
      "Epoch 453/500\n",
      "2/2 [==============================] - 0s 500us/step - loss: 7.6541 - mae: 7.6541\n",
      "Epoch 454/500\n",
      "2/2 [==============================] - 0s 0s/step - loss: 28.1428 - mae: 28.1428\n",
      "Epoch 455/500\n",
      "2/2 [==============================] - 0s 499us/step - loss: 8.0017 - mae: 8.0017\n",
      "Epoch 456/500\n",
      "2/2 [==============================] - 0s 501us/step - loss: 10.3933 - mae: 10.3933\n",
      "Epoch 457/500\n",
      "2/2 [==============================] - 0s 0s/step - loss: 15.0242 - mae: 15.0242\n",
      "Epoch 458/500\n",
      "2/2 [==============================] - 0s 500us/step - loss: 16.5653 - mae: 16.5653\n",
      "Epoch 459/500\n",
      "2/2 [==============================] - 0s 499us/step - loss: 26.8566 - mae: 26.8566\n",
      "Epoch 460/500\n",
      "2/2 [==============================] - 0s 501us/step - loss: 12.4852 - mae: 12.4852\n",
      "Epoch 461/500\n",
      "2/2 [==============================] - 0s 0s/step - loss: 12.4784 - mae: 12.4784\n",
      "Epoch 462/500\n",
      "2/2 [==============================] - 0s 500us/step - loss: 13.3186 - mae: 13.3186\n",
      "Epoch 463/500\n",
      "2/2 [==============================] - 0s 499us/step - loss: 29.5524 - mae: 29.5524\n",
      "Epoch 464/500\n",
      "2/2 [==============================] - 0s 0s/step - loss: 3.4664 - mae: 3.4664\n",
      "Epoch 465/500\n",
      "2/2 [==============================] - 0s 500us/step - loss: 15.2136 - mae: 15.2136\n",
      "Epoch 466/500\n",
      "2/2 [==============================] - 0s 500us/step - loss: 20.8327 - mae: 20.8327\n",
      "Epoch 467/500\n",
      "2/2 [==============================] - 0s 504us/step - loss: 30.5108 - mae: 30.5108\n",
      "Epoch 468/500\n",
      "2/2 [==============================] - 0s 500us/step - loss: 11.0598 - mae: 11.0598\n",
      "Epoch 469/500\n",
      "2/2 [==============================] - 0s 500us/step - loss: 12.8372 - mae: 12.8372\n",
      "Epoch 470/500\n",
      "2/2 [==============================] - 0s 499us/step - loss: 3.2398 - mae: 3.2398\n",
      "Epoch 471/500\n",
      "2/2 [==============================] - 0s 500us/step - loss: 16.6964 - mae: 16.6964\n",
      "Epoch 472/500\n",
      "2/2 [==============================] - 0s 500us/step - loss: 13.3883 - mae: 13.3883\n",
      "Epoch 473/500\n",
      "2/2 [==============================] - 0s 501us/step - loss: 15.2771 - mae: 15.2771\n",
      "Epoch 474/500\n",
      "2/2 [==============================] - 0s 500us/step - loss: 11.7448 - mae: 11.7448\n",
      "Epoch 475/500\n",
      "2/2 [==============================] - 0s 500us/step - loss: 16.4113 - mae: 16.4113\n",
      "Epoch 476/500\n",
      "2/2 [==============================] - 0s 0s/step - loss: 13.8785 - mae: 13.8785\n",
      "Epoch 477/500\n",
      "2/2 [==============================] - 0s 500us/step - loss: 30.6702 - mae: 30.6702\n",
      "Epoch 478/500\n",
      "2/2 [==============================] - 0s 500us/step - loss: 8.5880 - mae: 8.5880\n",
      "Epoch 479/500\n",
      "2/2 [==============================] - 0s 0s/step - loss: 10.7384 - mae: 10.7384\n",
      "Epoch 480/500\n",
      "2/2 [==============================] - 0s 0s/step - loss: 17.9051 - mae: 17.9051\n",
      "Epoch 481/500\n",
      "2/2 [==============================] - 0s 500us/step - loss: 15.8094 - mae: 15.8094\n",
      "Epoch 482/500\n",
      "2/2 [==============================] - 0s 500us/step - loss: 21.3054 - mae: 21.3054\n",
      "Epoch 483/500\n",
      "2/2 [==============================] - 0s 500us/step - loss: 25.3845 - mae: 25.3845\n",
      "Epoch 484/500\n",
      "2/2 [==============================] - 0s 501us/step - loss: 23.9816 - mae: 23.9816\n",
      "Epoch 485/500\n",
      "2/2 [==============================] - 0s 501us/step - loss: 5.7734 - mae: 5.7734\n",
      "Epoch 486/500\n",
      "2/2 [==============================] - 0s 500us/step - loss: 20.0011 - mae: 20.0011\n",
      "Epoch 487/500\n",
      "2/2 [==============================] - 0s 501us/step - loss: 14.0419 - mae: 14.0419\n",
      "Epoch 488/500\n",
      "2/2 [==============================] - 0s 500us/step - loss: 30.6088 - mae: 30.6088\n",
      "Epoch 489/500\n",
      "2/2 [==============================] - 0s 500us/step - loss: 11.9409 - mae: 11.9409\n",
      "Epoch 490/500\n",
      "2/2 [==============================] - 0s 500us/step - loss: 12.7352 - mae: 12.7352\n",
      "Epoch 491/500\n",
      "2/2 [==============================] - 0s 501us/step - loss: 23.6139 - mae: 23.6139\n",
      "Epoch 492/500\n",
      "2/2 [==============================] - 0s 499us/step - loss: 20.5365 - mae: 20.5365\n",
      "Epoch 493/500\n",
      "2/2 [==============================] - 0s 500us/step - loss: 4.9942 - mae: 4.9942\n",
      "Epoch 494/500\n",
      "2/2 [==============================] - 0s 500us/step - loss: 12.7987 - mae: 12.7987\n",
      "Epoch 495/500\n",
      "2/2 [==============================] - 0s 501us/step - loss: 13.3772 - mae: 13.3772\n",
      "Epoch 496/500\n",
      "2/2 [==============================] - 0s 500us/step - loss: 12.6727 - mae: 12.6727\n",
      "Epoch 497/500\n",
      "2/2 [==============================] - 0s 500us/step - loss: 17.6192 - mae: 17.6192\n",
      "Epoch 498/500\n",
      "2/2 [==============================] - 0s 1ms/step - loss: 23.5629 - mae: 23.5629\n",
      "Epoch 499/500\n",
      "2/2 [==============================] - 0s 500us/step - loss: 9.3755 - mae: 9.3755\n",
      "Epoch 500/500\n",
      "2/2 [==============================] - 0s 0s/step - loss: 14.6316 - mae: 14.6316\n"
     ]
    },
    {
     "data": {
      "text/plain": [
       "<tensorflow.python.keras.callbacks.History at 0x2b035b2a940>"
      ]
     },
     "execution_count": 154,
     "metadata": {},
     "output_type": "execute_result"
    }
   ],
   "source": [
    "# Set random seed\n",
    "tf.random.set_seed(42)\n",
    "\n",
    "# Create the model\n",
    "model_3 = tf.keras.Sequential([tf.keras.layers.Dense(10),\n",
    "                              tf.keras.layers.Dense(1)])\n",
    "\n",
    "#Compile the model\n",
    "\n",
    "model_3.compile(loss=tf.keras.losses.mae,\n",
    "               optimizer=tf.keras.optimizers.SGD(),\n",
    "               metrics=[\"mae\"])\n",
    "# Fit the model\n",
    "model_3.fit(X_train,Y_train,epochs=500)"
   ]
  },
  {
   "cell_type": "code",
   "execution_count": 155,
   "id": "a3a6d19d",
   "metadata": {},
   "outputs": [
    {
     "name": "stdout",
     "output_type": "stream",
     "text": [
      "WARNING:tensorflow:11 out of the last 11 calls to <function Model.make_predict_function.<locals>.predict_function at 0x000002B033F0B3A0> triggered tf.function retracing. Tracing is expensive and the excessive number of tracings could be due to (1) creating @tf.function repeatedly in a loop, (2) passing tensors with different shapes, (3) passing Python objects instead of tensors. For (1), please define your @tf.function outside of the loop. For (2), @tf.function has experimental_relax_shapes=True option that relaxes argument shapes that can avoid unnecessary retracing. For (3), please refer to https://www.tensorflow.org/tutorials/customization/performance#python_or_tensor_args and https://www.tensorflow.org/api_docs/python/tf/function for  more details.\n"
     ]
    },
    {
     "data": {
      "image/png": "[encoded data removed]",
      "text/plain": [
       "<Figure size 720x504 with 1 Axes>"
      ]
     },
     "metadata": {
      "needs_background": "light"
     },
     "output_type": "display_data"
    }
   ],
   "source": [
    "# Visualizing\n",
    "y_preds_3 = model_3.predict(X_test)\n",
    "plot_predictions(train_labels=Y_train, predictions=y_preds_3)"
   ]
  },
  {
   "cell_type": "code",
   "execution_count": 157,
   "id": "b49312da",
   "metadata": {},
   "outputs": [
    {
     "data": {
      "text/plain": [
       "(<tf.Tensor: shape=(), dtype=float32, numpy=68.713615>,\n",
       " <tf.Tensor: shape=(), dtype=float32, numpy=4808.0273>)"
      ]
     },
     "execution_count": 157,
     "metadata": {},
     "output_type": "execute_result"
    }
   ],
   "source": [
    "# Calculate evaluation metrics\n",
    "mae_3= mae(Y_test,tf.squeeze(y_preds_3))\n",
    "mse_3= mse(Y_test,tf.squeeze(y_preds_3))\n",
    "mae_3,mse_3"
   ]
  },
  {
   "cell_type": "markdown",
   "id": "fd663fef",
   "metadata": {},
   "source": [
    "# Saving the Model"
   ]
  },
  {
   "cell_type": "markdown",
   "id": "c53b2a21",
   "metadata": {},
   "source": [
    "Saving our models allows us to use them outside of Jupyter Notebook.\n",
    "1- The SavedModel format\n",
    "2- The HDF5 format"
   ]
  },
  {
   "cell_type": "code",
   "execution_count": 158,
   "id": "3f82c896",
   "metadata": {},
   "outputs": [
    {
     "name": "stdout",
     "output_type": "stream",
     "text": [
      "WARNING:tensorflow:From C:\\Users\\umut_\\anaconda3\\lib\\site-packages\\tensorflow\\python\\training\\tracking\\tracking.py:111: Model.state_updates (from tensorflow.python.keras.engine.training) is deprecated and will be removed in a future version.\n",
      "Instructions for updating:\n",
      "This property should not be used in TensorFlow 2.0, as updates are applied automatically.\n",
      "WARNING:tensorflow:From C:\\Users\\umut_\\anaconda3\\lib\\site-packages\\tensorflow\\python\\training\\tracking\\tracking.py:111: Layer.updates (from tensorflow.python.keras.engine.base_layer) is deprecated and will be removed in a future version.\n",
      "Instructions for updating:\n",
      "This property should not be used in TensorFlow 2.0, as updates are applied automatically.\n",
      "INFO:tensorflow:Assets written to: best_model_SavedModel_format\\assets\n"
     ]
    }
   ],
   "source": [
    "model_2.save(\"best_model_SavedModel_format\")"
   ]
  },
  {
   "cell_type": "code",
   "execution_count": 161,
   "id": "705f52d4",
   "metadata": {},
   "outputs": [],
   "source": [
    "# HDF5 format\n",
    "model_2.save(\"best_model_HDF5_format.h5\")"
   ]
  },
  {
   "cell_type": "markdown",
   "id": "19f2c0ad",
   "metadata": {},
   "source": []
  }
 ],
 "metadata": {
  "kernelspec": {
   "display_name": "Python 3",
   "language": "python",
   "name": "python3"
  },
  "language_info": {
   "codemirror_mode": {
    "name": "ipython",
    "version": 3
   },
   "file_extension": ".py",
   "mimetype": "text/x-python",
   "name": "python",
   "nbconvert_exporter": "python",
   "pygments_lexer": "ipython3",
   "version": "3.8.8"
  }
 },
 "nbformat": 4,
 "nbformat_minor": 5
}
